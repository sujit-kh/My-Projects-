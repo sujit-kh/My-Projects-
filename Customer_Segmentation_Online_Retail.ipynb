{
  "nbformat": 4,
  "nbformat_minor": 0,
  "metadata": {
    "kernelspec": {
      "display_name": "Python 3",
      "language": "python",
      "name": "python3"
    },
    "language_info": {
      "codemirror_mode": {
        "name": "ipython",
        "version": 3
      },
      "file_extension": ".py",
      "mimetype": "text/x-python",
      "name": "python",
      "nbconvert_exporter": "python",
      "pygments_lexer": "ipython3",
      "version": "3.7.6"
    },
    "colab": {
      "name": "Customer_Segmentation_Online_Retail.ipynb",
      "provenance": [],
      "collapsed_sections": []
    }
  },
  "cells": [
    {
      "cell_type": "markdown",
      "metadata": {
        "id": "YjGqQ8n05owx"
      },
      "source": [
        "# Analysis of Retail Sales Data from UK\n",
        "\n",
        "- Find the most important customers from all the transactions\n",
        "\n",
        "- Segment the Data and Do Analysis of Segments using Tree Model\n",
        "\n",
        "- Basic statistical analysis on various parameters\n",
        "\n",
        "- Mostly sold item\n",
        "\n",
        "- Most frequent customer\n",
        "\n",
        "- Max value transaction"
      ]
    },
    {
      "cell_type": "markdown",
      "source": [
        "https://www.kaggle.com/datasets/carrie1/ecommerce-data"
      ],
      "metadata": {
        "id": "ZLxCJfxbDEng"
      }
    },
    {
      "cell_type": "code",
      "metadata": {
        "id": "bpa9Bgco_s_f"
      },
      "source": [
        "import pandas as pd\n",
        "import warnings\n",
        "warnings.filterwarnings('ignore')"
      ],
      "execution_count": null,
      "outputs": []
    },
    {
      "cell_type": "markdown",
      "metadata": {
        "id": "EGSuA7Ja_s_r"
      },
      "source": [
        "#### Dataset source\n",
        "https://archive.ics.uci.edu/ml/datasets/online+retail"
      ]
    },
    {
      "cell_type": "code",
      "metadata": {
        "colab": {
          "base_uri": "https://localhost:8080/",
          "height": 362
        },
        "id": "xpgQCI9N_s_s",
        "outputId": "6dce91d4-0276-4488-9b01-5f4efd783547"
      },
      "source": [
        "df1 = pd.read_excel(\"Online_Retail.xlsx\")\n",
        "df1.head()"
      ],
      "execution_count": null,
      "outputs": [
        {
          "output_type": "execute_result",
          "data": {
            "text/html": [
              "<div>\n",
              "<style scoped>\n",
              "    .dataframe tbody tr th:only-of-type {\n",
              "        vertical-align: middle;\n",
              "    }\n",
              "\n",
              "    .dataframe tbody tr th {\n",
              "        vertical-align: top;\n",
              "    }\n",
              "\n",
              "    .dataframe thead th {\n",
              "        text-align: right;\n",
              "    }\n",
              "</style>\n",
              "<table border=\"1\" class=\"dataframe\">\n",
              "  <thead>\n",
              "    <tr style=\"text-align: right;\">\n",
              "      <th></th>\n",
              "      <th>InvoiceNo</th>\n",
              "      <th>StockCode</th>\n",
              "      <th>Description</th>\n",
              "      <th>Quantity</th>\n",
              "      <th>InvoiceDate</th>\n",
              "      <th>UnitPrice</th>\n",
              "      <th>CustomerID</th>\n",
              "      <th>Country</th>\n",
              "    </tr>\n",
              "  </thead>\n",
              "  <tbody>\n",
              "    <tr>\n",
              "      <th>0</th>\n",
              "      <td>536365</td>\n",
              "      <td>85123A</td>\n",
              "      <td>WHITE HANGING HEART T-LIGHT HOLDER</td>\n",
              "      <td>6</td>\n",
              "      <td>2010-12-01 08:26:00</td>\n",
              "      <td>2.55</td>\n",
              "      <td>17850.0</td>\n",
              "      <td>United Kingdom</td>\n",
              "    </tr>\n",
              "    <tr>\n",
              "      <th>1</th>\n",
              "      <td>536365</td>\n",
              "      <td>71053</td>\n",
              "      <td>WHITE METAL LANTERN</td>\n",
              "      <td>6</td>\n",
              "      <td>2010-12-01 08:26:00</td>\n",
              "      <td>3.39</td>\n",
              "      <td>17850.0</td>\n",
              "      <td>United Kingdom</td>\n",
              "    </tr>\n",
              "    <tr>\n",
              "      <th>2</th>\n",
              "      <td>536365</td>\n",
              "      <td>84406B</td>\n",
              "      <td>CREAM CUPID HEARTS COAT HANGER</td>\n",
              "      <td>8</td>\n",
              "      <td>2010-12-01 08:26:00</td>\n",
              "      <td>2.75</td>\n",
              "      <td>17850.0</td>\n",
              "      <td>United Kingdom</td>\n",
              "    </tr>\n",
              "    <tr>\n",
              "      <th>3</th>\n",
              "      <td>536365</td>\n",
              "      <td>84029G</td>\n",
              "      <td>KNITTED UNION FLAG HOT WATER BOTTLE</td>\n",
              "      <td>6</td>\n",
              "      <td>2010-12-01 08:26:00</td>\n",
              "      <td>3.39</td>\n",
              "      <td>17850.0</td>\n",
              "      <td>United Kingdom</td>\n",
              "    </tr>\n",
              "    <tr>\n",
              "      <th>4</th>\n",
              "      <td>536365</td>\n",
              "      <td>84029E</td>\n",
              "      <td>RED WOOLLY HOTTIE WHITE HEART.</td>\n",
              "      <td>6</td>\n",
              "      <td>2010-12-01 08:26:00</td>\n",
              "      <td>3.39</td>\n",
              "      <td>17850.0</td>\n",
              "      <td>United Kingdom</td>\n",
              "    </tr>\n",
              "  </tbody>\n",
              "</table>\n",
              "</div>"
            ],
            "text/plain": [
              "  InvoiceNo StockCode  ... CustomerID         Country\n",
              "0    536365    85123A  ...    17850.0  United Kingdom\n",
              "1    536365     71053  ...    17850.0  United Kingdom\n",
              "2    536365    84406B  ...    17850.0  United Kingdom\n",
              "3    536365    84029G  ...    17850.0  United Kingdom\n",
              "4    536365    84029E  ...    17850.0  United Kingdom\n",
              "\n",
              "[5 rows x 8 columns]"
            ]
          },
          "metadata": {},
          "execution_count": 2
        }
      ]
    },
    {
      "cell_type": "code",
      "metadata": {
        "colab": {
          "base_uri": "https://localhost:8080/"
        },
        "id": "pVEMjl_h1fHs",
        "outputId": "436194ed-b728-49b3-98f9-efeeb2adc6e8"
      },
      "source": [
        "df1.shape"
      ],
      "execution_count": null,
      "outputs": [
        {
          "output_type": "execute_result",
          "data": {
            "text/plain": [
              "(541909, 8)"
            ]
          },
          "metadata": {},
          "execution_count": 4
        }
      ]
    },
    {
      "cell_type": "markdown",
      "metadata": {
        "id": "LeEdjSEl_s_u"
      },
      "source": [
        "#Step 1. Basic Data Cleaning\n",
        "We need to do santity check about the data"
      ]
    },
    {
      "cell_type": "code",
      "metadata": {
        "colab": {
          "base_uri": "https://localhost:8080/"
        },
        "id": "ADKAHpyC_s_v",
        "outputId": "c644a564-4f99-48c3-b028-c6d1115bb12f"
      },
      "source": [
        "df1.Country.nunique()"
      ],
      "execution_count": null,
      "outputs": [
        {
          "output_type": "execute_result",
          "data": {
            "text/plain": [
              "38"
            ]
          },
          "metadata": {},
          "execution_count": 5
        }
      ]
    },
    {
      "cell_type": "code",
      "metadata": {
        "colab": {
          "base_uri": "https://localhost:8080/"
        },
        "id": "8y2UOh7X14qd",
        "outputId": "c7913183-62f7-47ce-9a75-42767179014b"
      },
      "source": [
        "df1.Country.value_counts()"
      ],
      "execution_count": null,
      "outputs": [
        {
          "output_type": "execute_result",
          "data": {
            "text/plain": [
              "United Kingdom          495478\n",
              "Germany                   9495\n",
              "France                    8557\n",
              "EIRE                      8196\n",
              "Spain                     2533\n",
              "Netherlands               2371\n",
              "Belgium                   2069\n",
              "Switzerland               2002\n",
              "Portugal                  1519\n",
              "Australia                 1259\n",
              "Norway                    1086\n",
              "Italy                      803\n",
              "Channel Islands            758\n",
              "Finland                    695\n",
              "Cyprus                     622\n",
              "Sweden                     462\n",
              "Unspecified                446\n",
              "Austria                    401\n",
              "Denmark                    389\n",
              "Japan                      358\n",
              "Poland                     341\n",
              "Israel                     297\n",
              "USA                        291\n",
              "Hong Kong                  288\n",
              "Singapore                  229\n",
              "Iceland                    182\n",
              "Canada                     151\n",
              "Greece                     146\n",
              "Malta                      127\n",
              "United Arab Emirates        68\n",
              "European Community          61\n",
              "RSA                         58\n",
              "Lebanon                     45\n",
              "Lithuania                   35\n",
              "Brazil                      32\n",
              "Czech Republic              30\n",
              "Bahrain                     19\n",
              "Saudi Arabia                10\n",
              "Name: Country, dtype: int64"
            ]
          },
          "metadata": {},
          "execution_count": 6
        }
      ]
    },
    {
      "cell_type": "code",
      "metadata": {
        "colab": {
          "base_uri": "https://localhost:8080/"
        },
        "id": "pVm-HUWG_s_v",
        "outputId": "068e0fe0-78d0-40da-b8e2-8b585d3576f4"
      },
      "source": [
        "df1.Country.unique()"
      ],
      "execution_count": null,
      "outputs": [
        {
          "output_type": "execute_result",
          "data": {
            "text/plain": [
              "array(['United Kingdom', 'France', 'Australia', 'Netherlands', 'Germany',\n",
              "       'Norway', 'EIRE', 'Switzerland', 'Spain', 'Poland', 'Portugal',\n",
              "       'Italy', 'Belgium', 'Lithuania', 'Japan', 'Iceland',\n",
              "       'Channel Islands', 'Denmark', 'Cyprus', 'Sweden', 'Austria',\n",
              "       'Israel', 'Finland', 'Bahrain', 'Greece', 'Hong Kong', 'Singapore',\n",
              "       'Lebanon', 'United Arab Emirates', 'Saudi Arabia',\n",
              "       'Czech Republic', 'Canada', 'Unspecified', 'Brazil', 'USA',\n",
              "       'European Community', 'Malta', 'RSA'], dtype=object)"
            ]
          },
          "metadata": {
            "tags": []
          },
          "execution_count": 4
        }
      ]
    },
    {
      "cell_type": "code",
      "metadata": {
        "colab": {
          "base_uri": "https://localhost:8080/",
          "height": 1000
        },
        "id": "h9OCZF9v_s_w",
        "outputId": "cb396346-9c46-45e6-9849-5ac4248c6a22"
      },
      "source": [
        "customer_country=df1[['Country','CustomerID']].drop_duplicates()\n",
        "\n",
        "x = customer_country.groupby(['Country'])['CustomerID'].aggregate('count')/customer_country.shape[0] * 100\n",
        "x.reset_index().sort_values('CustomerID', ascending=False)"
      ],
      "execution_count": null,
      "outputs": [
        {
          "output_type": "execute_result",
          "data": {
            "text/html": [
              "<div>\n",
              "<style scoped>\n",
              "    .dataframe tbody tr th:only-of-type {\n",
              "        vertical-align: middle;\n",
              "    }\n",
              "\n",
              "    .dataframe tbody tr th {\n",
              "        vertical-align: top;\n",
              "    }\n",
              "\n",
              "    .dataframe thead th {\n",
              "        text-align: right;\n",
              "    }\n",
              "</style>\n",
              "<table border=\"1\" class=\"dataframe\">\n",
              "  <thead>\n",
              "    <tr style=\"text-align: right;\">\n",
              "      <th></th>\n",
              "      <th>Country</th>\n",
              "      <th>CustomerID</th>\n",
              "    </tr>\n",
              "  </thead>\n",
              "  <tbody>\n",
              "    <tr>\n",
              "      <th>36</th>\n",
              "      <td>United Kingdom</td>\n",
              "      <td>89.997722</td>\n",
              "    </tr>\n",
              "    <tr>\n",
              "      <th>14</th>\n",
              "      <td>Germany</td>\n",
              "      <td>2.164502</td>\n",
              "    </tr>\n",
              "    <tr>\n",
              "      <th>13</th>\n",
              "      <td>France</td>\n",
              "      <td>1.982228</td>\n",
              "    </tr>\n",
              "    <tr>\n",
              "      <th>31</th>\n",
              "      <td>Spain</td>\n",
              "      <td>0.706311</td>\n",
              "    </tr>\n",
              "    <tr>\n",
              "      <th>3</th>\n",
              "      <td>Belgium</td>\n",
              "      <td>0.569606</td>\n",
              "    </tr>\n",
              "    <tr>\n",
              "      <th>33</th>\n",
              "      <td>Switzerland</td>\n",
              "      <td>0.478469</td>\n",
              "    </tr>\n",
              "    <tr>\n",
              "      <th>27</th>\n",
              "      <td>Portugal</td>\n",
              "      <td>0.432900</td>\n",
              "    </tr>\n",
              "    <tr>\n",
              "      <th>19</th>\n",
              "      <td>Italy</td>\n",
              "      <td>0.341763</td>\n",
              "    </tr>\n",
              "    <tr>\n",
              "      <th>12</th>\n",
              "      <td>Finland</td>\n",
              "      <td>0.273411</td>\n",
              "    </tr>\n",
              "    <tr>\n",
              "      <th>1</th>\n",
              "      <td>Austria</td>\n",
              "      <td>0.250627</td>\n",
              "    </tr>\n",
              "    <tr>\n",
              "      <th>25</th>\n",
              "      <td>Norway</td>\n",
              "      <td>0.227842</td>\n",
              "    </tr>\n",
              "    <tr>\n",
              "      <th>24</th>\n",
              "      <td>Netherlands</td>\n",
              "      <td>0.205058</td>\n",
              "    </tr>\n",
              "    <tr>\n",
              "      <th>0</th>\n",
              "      <td>Australia</td>\n",
              "      <td>0.205058</td>\n",
              "    </tr>\n",
              "    <tr>\n",
              "      <th>6</th>\n",
              "      <td>Channel Islands</td>\n",
              "      <td>0.205058</td>\n",
              "    </tr>\n",
              "    <tr>\n",
              "      <th>9</th>\n",
              "      <td>Denmark</td>\n",
              "      <td>0.205058</td>\n",
              "    </tr>\n",
              "    <tr>\n",
              "      <th>7</th>\n",
              "      <td>Cyprus</td>\n",
              "      <td>0.182274</td>\n",
              "    </tr>\n",
              "    <tr>\n",
              "      <th>32</th>\n",
              "      <td>Sweden</td>\n",
              "      <td>0.182274</td>\n",
              "    </tr>\n",
              "    <tr>\n",
              "      <th>20</th>\n",
              "      <td>Japan</td>\n",
              "      <td>0.182274</td>\n",
              "    </tr>\n",
              "    <tr>\n",
              "      <th>26</th>\n",
              "      <td>Poland</td>\n",
              "      <td>0.136705</td>\n",
              "    </tr>\n",
              "    <tr>\n",
              "      <th>34</th>\n",
              "      <td>USA</td>\n",
              "      <td>0.091137</td>\n",
              "    </tr>\n",
              "    <tr>\n",
              "      <th>5</th>\n",
              "      <td>Canada</td>\n",
              "      <td>0.091137</td>\n",
              "    </tr>\n",
              "    <tr>\n",
              "      <th>37</th>\n",
              "      <td>Unspecified</td>\n",
              "      <td>0.091137</td>\n",
              "    </tr>\n",
              "    <tr>\n",
              "      <th>18</th>\n",
              "      <td>Israel</td>\n",
              "      <td>0.091137</td>\n",
              "    </tr>\n",
              "    <tr>\n",
              "      <th>15</th>\n",
              "      <td>Greece</td>\n",
              "      <td>0.091137</td>\n",
              "    </tr>\n",
              "    <tr>\n",
              "      <th>10</th>\n",
              "      <td>EIRE</td>\n",
              "      <td>0.068353</td>\n",
              "    </tr>\n",
              "    <tr>\n",
              "      <th>23</th>\n",
              "      <td>Malta</td>\n",
              "      <td>0.045568</td>\n",
              "    </tr>\n",
              "    <tr>\n",
              "      <th>35</th>\n",
              "      <td>United Arab Emirates</td>\n",
              "      <td>0.045568</td>\n",
              "    </tr>\n",
              "    <tr>\n",
              "      <th>2</th>\n",
              "      <td>Bahrain</td>\n",
              "      <td>0.045568</td>\n",
              "    </tr>\n",
              "    <tr>\n",
              "      <th>22</th>\n",
              "      <td>Lithuania</td>\n",
              "      <td>0.022784</td>\n",
              "    </tr>\n",
              "    <tr>\n",
              "      <th>8</th>\n",
              "      <td>Czech Republic</td>\n",
              "      <td>0.022784</td>\n",
              "    </tr>\n",
              "    <tr>\n",
              "      <th>21</th>\n",
              "      <td>Lebanon</td>\n",
              "      <td>0.022784</td>\n",
              "    </tr>\n",
              "    <tr>\n",
              "      <th>28</th>\n",
              "      <td>RSA</td>\n",
              "      <td>0.022784</td>\n",
              "    </tr>\n",
              "    <tr>\n",
              "      <th>29</th>\n",
              "      <td>Saudi Arabia</td>\n",
              "      <td>0.022784</td>\n",
              "    </tr>\n",
              "    <tr>\n",
              "      <th>30</th>\n",
              "      <td>Singapore</td>\n",
              "      <td>0.022784</td>\n",
              "    </tr>\n",
              "    <tr>\n",
              "      <th>17</th>\n",
              "      <td>Iceland</td>\n",
              "      <td>0.022784</td>\n",
              "    </tr>\n",
              "    <tr>\n",
              "      <th>4</th>\n",
              "      <td>Brazil</td>\n",
              "      <td>0.022784</td>\n",
              "    </tr>\n",
              "    <tr>\n",
              "      <th>11</th>\n",
              "      <td>European Community</td>\n",
              "      <td>0.022784</td>\n",
              "    </tr>\n",
              "    <tr>\n",
              "      <th>16</th>\n",
              "      <td>Hong Kong</td>\n",
              "      <td>0.000000</td>\n",
              "    </tr>\n",
              "  </tbody>\n",
              "</table>\n",
              "</div>"
            ],
            "text/plain": [
              "                 Country  CustomerID\n",
              "36        United Kingdom   89.997722\n",
              "14               Germany    2.164502\n",
              "13                France    1.982228\n",
              "31                 Spain    0.706311\n",
              "3                Belgium    0.569606\n",
              "33           Switzerland    0.478469\n",
              "27              Portugal    0.432900\n",
              "19                 Italy    0.341763\n",
              "12               Finland    0.273411\n",
              "1                Austria    0.250627\n",
              "25                Norway    0.227842\n",
              "24           Netherlands    0.205058\n",
              "0              Australia    0.205058\n",
              "6        Channel Islands    0.205058\n",
              "9                Denmark    0.205058\n",
              "7                 Cyprus    0.182274\n",
              "32                Sweden    0.182274\n",
              "20                 Japan    0.182274\n",
              "26                Poland    0.136705\n",
              "34                   USA    0.091137\n",
              "5                 Canada    0.091137\n",
              "37           Unspecified    0.091137\n",
              "18                Israel    0.091137\n",
              "15                Greece    0.091137\n",
              "10                  EIRE    0.068353\n",
              "23                 Malta    0.045568\n",
              "35  United Arab Emirates    0.045568\n",
              "2                Bahrain    0.045568\n",
              "22             Lithuania    0.022784\n",
              "8         Czech Republic    0.022784\n",
              "21               Lebanon    0.022784\n",
              "28                   RSA    0.022784\n",
              "29          Saudi Arabia    0.022784\n",
              "30             Singapore    0.022784\n",
              "17               Iceland    0.022784\n",
              "4                 Brazil    0.022784\n",
              "11    European Community    0.022784\n",
              "16             Hong Kong    0.000000"
            ]
          },
          "metadata": {
            "tags": []
          },
          "execution_count": 5
        }
      ]
    },
    {
      "cell_type": "markdown",
      "metadata": {
        "id": "at5GqRKi_s_x"
      },
      "source": [
        "More than 90% of the customers in the data are from United Kingdom, SO we are interested only in UK data."
      ]
    },
    {
      "cell_type": "code",
      "metadata": {
        "id": "IvAF8n69_s_x"
      },
      "source": [
        "df1 = df1.loc[df1['Country'] == 'United Kingdom']"
      ],
      "execution_count": null,
      "outputs": []
    },
    {
      "cell_type": "code",
      "metadata": {
        "colab": {
          "base_uri": "https://localhost:8080/"
        },
        "id": "Aaemw9uL_s_y",
        "outputId": "f14bd013-42b3-4b42-cc0d-d5ec24e4d1ab"
      },
      "source": [
        "df1.isnull().sum()/df1.shape[0] * 100"
      ],
      "execution_count": null,
      "outputs": [
        {
          "output_type": "execute_result",
          "data": {
            "text/plain": [
              "InvoiceNo       0.000000\n",
              "StockCode       0.000000\n",
              "Description     0.293454\n",
              "Quantity        0.000000\n",
              "InvoiceDate     0.000000\n",
              "UnitPrice       0.000000\n",
              "CustomerID     26.963861\n",
              "Country         0.000000\n",
              "dtype: float64"
            ]
          },
          "metadata": {},
          "execution_count": 8
        }
      ]
    },
    {
      "cell_type": "code",
      "metadata": {
        "colab": {
          "base_uri": "https://localhost:8080/"
        },
        "id": "pcyVNmEH_s_y",
        "outputId": "bc76b02f-38c3-4424-a3ed-5c45b9e4c02d"
      },
      "source": [
        "df1 = df1[df1['CustomerID'].isnull() == False] #pd.notnull\n",
        "df1.isnull().sum(axis=0)"
      ],
      "execution_count": null,
      "outputs": [
        {
          "output_type": "execute_result",
          "data": {
            "text/plain": [
              "InvoiceNo      0\n",
              "StockCode      0\n",
              "Description    0\n",
              "Quantity       0\n",
              "InvoiceDate    0\n",
              "UnitPrice      0\n",
              "CustomerID     0\n",
              "Country        0\n",
              "dtype: int64"
            ]
          },
          "metadata": {},
          "execution_count": 9
        }
      ]
    },
    {
      "cell_type": "markdown",
      "metadata": {
        "id": "5XC6nKny_s_z"
      },
      "source": [
        "Check the min and max values in Unit price column"
      ]
    },
    {
      "cell_type": "code",
      "metadata": {
        "colab": {
          "base_uri": "https://localhost:8080/",
          "height": 300
        },
        "id": "4rzu-pqQ_s_0",
        "outputId": "46fcab0d-ba69-4a09-8333-a6cd9cb2fe59"
      },
      "source": [
        "df1.describe()"
      ],
      "execution_count": null,
      "outputs": [
        {
          "output_type": "execute_result",
          "data": {
            "text/html": [
              "<div>\n",
              "<style scoped>\n",
              "    .dataframe tbody tr th:only-of-type {\n",
              "        vertical-align: middle;\n",
              "    }\n",
              "\n",
              "    .dataframe tbody tr th {\n",
              "        vertical-align: top;\n",
              "    }\n",
              "\n",
              "    .dataframe thead th {\n",
              "        text-align: right;\n",
              "    }\n",
              "</style>\n",
              "<table border=\"1\" class=\"dataframe\">\n",
              "  <thead>\n",
              "    <tr style=\"text-align: right;\">\n",
              "      <th></th>\n",
              "      <th>Quantity</th>\n",
              "      <th>UnitPrice</th>\n",
              "      <th>CustomerID</th>\n",
              "    </tr>\n",
              "  </thead>\n",
              "  <tbody>\n",
              "    <tr>\n",
              "      <th>count</th>\n",
              "      <td>361878.000000</td>\n",
              "      <td>361878.000000</td>\n",
              "      <td>361878.000000</td>\n",
              "    </tr>\n",
              "    <tr>\n",
              "      <th>mean</th>\n",
              "      <td>11.077029</td>\n",
              "      <td>3.256007</td>\n",
              "      <td>15547.871368</td>\n",
              "    </tr>\n",
              "    <tr>\n",
              "      <th>std</th>\n",
              "      <td>263.129266</td>\n",
              "      <td>70.654731</td>\n",
              "      <td>1594.402590</td>\n",
              "    </tr>\n",
              "    <tr>\n",
              "      <th>min</th>\n",
              "      <td>-80995.000000</td>\n",
              "      <td>0.000000</td>\n",
              "      <td>12346.000000</td>\n",
              "    </tr>\n",
              "    <tr>\n",
              "      <th>25%</th>\n",
              "      <td>2.000000</td>\n",
              "      <td>1.250000</td>\n",
              "      <td>14194.000000</td>\n",
              "    </tr>\n",
              "    <tr>\n",
              "      <th>50%</th>\n",
              "      <td>4.000000</td>\n",
              "      <td>1.950000</td>\n",
              "      <td>15514.000000</td>\n",
              "    </tr>\n",
              "    <tr>\n",
              "      <th>75%</th>\n",
              "      <td>12.000000</td>\n",
              "      <td>3.750000</td>\n",
              "      <td>16931.000000</td>\n",
              "    </tr>\n",
              "    <tr>\n",
              "      <th>max</th>\n",
              "      <td>80995.000000</td>\n",
              "      <td>38970.000000</td>\n",
              "      <td>18287.000000</td>\n",
              "    </tr>\n",
              "  </tbody>\n",
              "</table>\n",
              "</div>"
            ],
            "text/plain": [
              "            Quantity      UnitPrice     CustomerID\n",
              "count  361878.000000  361878.000000  361878.000000\n",
              "mean       11.077029       3.256007   15547.871368\n",
              "std       263.129266      70.654731    1594.402590\n",
              "min    -80995.000000       0.000000   12346.000000\n",
              "25%         2.000000       1.250000   14194.000000\n",
              "50%         4.000000       1.950000   15514.000000\n",
              "75%        12.000000       3.750000   16931.000000\n",
              "max     80995.000000   38970.000000   18287.000000"
            ]
          },
          "metadata": {
            "tags": []
          },
          "execution_count": 9
        }
      ]
    },
    {
      "cell_type": "markdown",
      "metadata": {
        "id": "EzElLdiu_s_0"
      },
      "source": [
        "Remove the negative values in Quantity column"
      ]
    },
    {
      "cell_type": "code",
      "metadata": {
        "colab": {
          "base_uri": "https://localhost:8080/"
        },
        "id": "bLlwQEzr_s_0",
        "outputId": "926455f9-113c-4afe-b241-20ccdd182390"
      },
      "source": [
        "df1 = df1[(df1['Quantity']>0)]\n",
        "df1.Quantity.min()"
      ],
      "execution_count": null,
      "outputs": [
        {
          "output_type": "execute_result",
          "data": {
            "text/plain": [
              "1"
            ]
          },
          "metadata": {},
          "execution_count": 10
        }
      ]
    },
    {
      "cell_type": "markdown",
      "metadata": {
        "id": "RyASxZFJ_s_1"
      },
      "source": [
        "After cleaning up, we now dealing with 354345 rows and 8 columns"
      ]
    },
    {
      "cell_type": "code",
      "metadata": {
        "colab": {
          "base_uri": "https://localhost:8080/"
        },
        "id": "_aNe7wmh_s_1",
        "outputId": "26889e63-4d94-4458-985e-8f5946c8662a"
      },
      "source": [
        "df1.shape"
      ],
      "execution_count": null,
      "outputs": [
        {
          "output_type": "execute_result",
          "data": {
            "text/plain": [
              "(354345, 8)"
            ]
          },
          "metadata": {},
          "execution_count": 11
        }
      ]
    },
    {
      "cell_type": "code",
      "metadata": {
        "id": "9osou1Sj_s_2"
      },
      "source": [
        "# df1.to_csv(\"Transactions_data.csv\")"
      ],
      "execution_count": null,
      "outputs": []
    },
    {
      "cell_type": "markdown",
      "metadata": {
        "id": "K4ssQKI6_s_2"
      },
      "source": [
        "Check unique value for each column"
      ]
    },
    {
      "cell_type": "code",
      "metadata": {
        "colab": {
          "base_uri": "https://localhost:8080/"
        },
        "id": "ocukRfK2_s_3",
        "outputId": "25ae2230-a2ac-4f51-c0ec-77dd80fd977d"
      },
      "source": [
        "df1.nunique()"
      ],
      "execution_count": null,
      "outputs": [
        {
          "output_type": "execute_result",
          "data": {
            "text/plain": [
              "InvoiceNo      16649\n",
              "StockCode       3645\n",
              "Description     3844\n",
              "Quantity         294\n",
              "InvoiceDate    15615\n",
              "UnitPrice        403\n",
              "CustomerID      3921\n",
              "Country            1\n",
              "dtype: int64"
            ]
          },
          "metadata": {},
          "execution_count": 12
        }
      ]
    },
    {
      "cell_type": "code",
      "metadata": {
        "id": "2hXW60kg_s_3",
        "outputId": "2fffe678-e40b-4cc2-9780-c617de1cf238"
      },
      "source": [
        "df1.head()"
      ],
      "execution_count": null,
      "outputs": [
        {
          "output_type": "execute_result",
          "data": {
            "text/html": [
              "<div>\n",
              "<style scoped>\n",
              "    .dataframe tbody tr th:only-of-type {\n",
              "        vertical-align: middle;\n",
              "    }\n",
              "\n",
              "    .dataframe tbody tr th {\n",
              "        vertical-align: top;\n",
              "    }\n",
              "\n",
              "    .dataframe thead th {\n",
              "        text-align: right;\n",
              "    }\n",
              "</style>\n",
              "<table border=\"1\" class=\"dataframe\">\n",
              "  <thead>\n",
              "    <tr style=\"text-align: right;\">\n",
              "      <th></th>\n",
              "      <th>InvoiceNo</th>\n",
              "      <th>StockCode</th>\n",
              "      <th>Description</th>\n",
              "      <th>Quantity</th>\n",
              "      <th>InvoiceDate</th>\n",
              "      <th>UnitPrice</th>\n",
              "      <th>CustomerID</th>\n",
              "      <th>Country</th>\n",
              "    </tr>\n",
              "  </thead>\n",
              "  <tbody>\n",
              "    <tr>\n",
              "      <th>0</th>\n",
              "      <td>536365</td>\n",
              "      <td>85123A</td>\n",
              "      <td>WHITE HANGING HEART T-LIGHT HOLDER</td>\n",
              "      <td>6</td>\n",
              "      <td>2010-12-01 08:26:00</td>\n",
              "      <td>2.55</td>\n",
              "      <td>17850.0</td>\n",
              "      <td>United Kingdom</td>\n",
              "    </tr>\n",
              "    <tr>\n",
              "      <th>1</th>\n",
              "      <td>536365</td>\n",
              "      <td>71053</td>\n",
              "      <td>WHITE METAL LANTERN</td>\n",
              "      <td>6</td>\n",
              "      <td>2010-12-01 08:26:00</td>\n",
              "      <td>3.39</td>\n",
              "      <td>17850.0</td>\n",
              "      <td>United Kingdom</td>\n",
              "    </tr>\n",
              "    <tr>\n",
              "      <th>2</th>\n",
              "      <td>536365</td>\n",
              "      <td>84406B</td>\n",
              "      <td>CREAM CUPID HEARTS COAT HANGER</td>\n",
              "      <td>8</td>\n",
              "      <td>2010-12-01 08:26:00</td>\n",
              "      <td>2.75</td>\n",
              "      <td>17850.0</td>\n",
              "      <td>United Kingdom</td>\n",
              "    </tr>\n",
              "    <tr>\n",
              "      <th>3</th>\n",
              "      <td>536365</td>\n",
              "      <td>84029G</td>\n",
              "      <td>KNITTED UNION FLAG HOT WATER BOTTLE</td>\n",
              "      <td>6</td>\n",
              "      <td>2010-12-01 08:26:00</td>\n",
              "      <td>3.39</td>\n",
              "      <td>17850.0</td>\n",
              "      <td>United Kingdom</td>\n",
              "    </tr>\n",
              "    <tr>\n",
              "      <th>4</th>\n",
              "      <td>536365</td>\n",
              "      <td>84029E</td>\n",
              "      <td>RED WOOLLY HOTTIE WHITE HEART.</td>\n",
              "      <td>6</td>\n",
              "      <td>2010-12-01 08:26:00</td>\n",
              "      <td>3.39</td>\n",
              "      <td>17850.0</td>\n",
              "      <td>United Kingdom</td>\n",
              "    </tr>\n",
              "  </tbody>\n",
              "</table>\n",
              "</div>"
            ],
            "text/plain": [
              "  InvoiceNo StockCode                          Description  Quantity  \\\n",
              "0    536365    85123A   WHITE HANGING HEART T-LIGHT HOLDER         6   \n",
              "1    536365     71053                  WHITE METAL LANTERN         6   \n",
              "2    536365    84406B       CREAM CUPID HEARTS COAT HANGER         8   \n",
              "3    536365    84029G  KNITTED UNION FLAG HOT WATER BOTTLE         6   \n",
              "4    536365    84029E       RED WOOLLY HOTTIE WHITE HEART.         6   \n",
              "\n",
              "          InvoiceDate  UnitPrice  CustomerID         Country  \n",
              "0 2010-12-01 08:26:00       2.55     17850.0  United Kingdom  \n",
              "1 2010-12-01 08:26:00       3.39     17850.0  United Kingdom  \n",
              "2 2010-12-01 08:26:00       2.75     17850.0  United Kingdom  \n",
              "3 2010-12-01 08:26:00       3.39     17850.0  United Kingdom  \n",
              "4 2010-12-01 08:26:00       3.39     17850.0  United Kingdom  "
            ]
          },
          "metadata": {
            "tags": []
          },
          "execution_count": 28
        }
      ]
    },
    {
      "cell_type": "markdown",
      "metadata": {
        "id": "ziV_LdNj_s_4"
      },
      "source": [
        "Add a column for total price"
      ]
    },
    {
      "cell_type": "code",
      "metadata": {
        "colab": {
          "base_uri": "https://localhost:8080/",
          "height": 538
        },
        "id": "GVbcdABI_s_4",
        "outputId": "a5e4e764-d907-4b25-a244-d920816f6b27"
      },
      "source": [
        "df1['TotalPrice'] = df1['Quantity'] * df1['UnitPrice']\n",
        "df1.head()"
      ],
      "execution_count": null,
      "outputs": [
        {
          "output_type": "execute_result",
          "data": {
            "text/html": [
              "<div>\n",
              "<style scoped>\n",
              "    .dataframe tbody tr th:only-of-type {\n",
              "        vertical-align: middle;\n",
              "    }\n",
              "\n",
              "    .dataframe tbody tr th {\n",
              "        vertical-align: top;\n",
              "    }\n",
              "\n",
              "    .dataframe thead th {\n",
              "        text-align: right;\n",
              "    }\n",
              "</style>\n",
              "<table border=\"1\" class=\"dataframe\">\n",
              "  <thead>\n",
              "    <tr style=\"text-align: right;\">\n",
              "      <th></th>\n",
              "      <th>InvoiceNo</th>\n",
              "      <th>StockCode</th>\n",
              "      <th>Description</th>\n",
              "      <th>Quantity</th>\n",
              "      <th>InvoiceDate</th>\n",
              "      <th>UnitPrice</th>\n",
              "      <th>CustomerID</th>\n",
              "      <th>Country</th>\n",
              "      <th>TotalPrice</th>\n",
              "    </tr>\n",
              "  </thead>\n",
              "  <tbody>\n",
              "    <tr>\n",
              "      <th>0</th>\n",
              "      <td>536365</td>\n",
              "      <td>85123A</td>\n",
              "      <td>WHITE HANGING HEART T-LIGHT HOLDER</td>\n",
              "      <td>6</td>\n",
              "      <td>2010-12-01 08:26:00</td>\n",
              "      <td>2.55</td>\n",
              "      <td>17850.0</td>\n",
              "      <td>United Kingdom</td>\n",
              "      <td>15.30</td>\n",
              "    </tr>\n",
              "    <tr>\n",
              "      <th>1</th>\n",
              "      <td>536365</td>\n",
              "      <td>71053</td>\n",
              "      <td>WHITE METAL LANTERN</td>\n",
              "      <td>6</td>\n",
              "      <td>2010-12-01 08:26:00</td>\n",
              "      <td>3.39</td>\n",
              "      <td>17850.0</td>\n",
              "      <td>United Kingdom</td>\n",
              "      <td>20.34</td>\n",
              "    </tr>\n",
              "    <tr>\n",
              "      <th>2</th>\n",
              "      <td>536365</td>\n",
              "      <td>84406B</td>\n",
              "      <td>CREAM CUPID HEARTS COAT HANGER</td>\n",
              "      <td>8</td>\n",
              "      <td>2010-12-01 08:26:00</td>\n",
              "      <td>2.75</td>\n",
              "      <td>17850.0</td>\n",
              "      <td>United Kingdom</td>\n",
              "      <td>22.00</td>\n",
              "    </tr>\n",
              "    <tr>\n",
              "      <th>3</th>\n",
              "      <td>536365</td>\n",
              "      <td>84029G</td>\n",
              "      <td>KNITTED UNION FLAG HOT WATER BOTTLE</td>\n",
              "      <td>6</td>\n",
              "      <td>2010-12-01 08:26:00</td>\n",
              "      <td>3.39</td>\n",
              "      <td>17850.0</td>\n",
              "      <td>United Kingdom</td>\n",
              "      <td>20.34</td>\n",
              "    </tr>\n",
              "    <tr>\n",
              "      <th>4</th>\n",
              "      <td>536365</td>\n",
              "      <td>84029E</td>\n",
              "      <td>RED WOOLLY HOTTIE WHITE HEART.</td>\n",
              "      <td>6</td>\n",
              "      <td>2010-12-01 08:26:00</td>\n",
              "      <td>3.39</td>\n",
              "      <td>17850.0</td>\n",
              "      <td>United Kingdom</td>\n",
              "      <td>20.34</td>\n",
              "    </tr>\n",
              "  </tbody>\n",
              "</table>\n",
              "</div>"
            ],
            "text/plain": [
              "  InvoiceNo StockCode  ...         Country  TotalPrice\n",
              "0    536365    85123A  ...  United Kingdom       15.30\n",
              "1    536365     71053  ...  United Kingdom       20.34\n",
              "2    536365    84406B  ...  United Kingdom       22.00\n",
              "3    536365    84029G  ...  United Kingdom       20.34\n",
              "4    536365    84029E  ...  United Kingdom       20.34\n",
              "\n",
              "[5 rows x 9 columns]"
            ]
          },
          "metadata": {},
          "execution_count": 13
        }
      ]
    },
    {
      "cell_type": "code",
      "metadata": {
        "colab": {
          "base_uri": "https://localhost:8080/"
        },
        "id": "vawnuySS3-77",
        "outputId": "a19b4466-0d05-4700-a470-8ee819f05576"
      },
      "source": [
        "df1.groupby(['InvoiceNo'])['TotalPrice'].sum()"
      ],
      "execution_count": null,
      "outputs": [
        {
          "output_type": "execute_result",
          "data": {
            "text/plain": [
              "InvoiceNo\n",
              "536365    139.12\n",
              "536366     22.20\n",
              "536367    278.73\n",
              "536368     70.05\n",
              "536369     17.85\n",
              "           ...  \n",
              "581582     29.88\n",
              "581583    124.60\n",
              "581584    140.64\n",
              "581585    329.05\n",
              "581586    339.20\n",
              "Name: TotalPrice, Length: 16649, dtype: float64"
            ]
          },
          "metadata": {},
          "execution_count": 14
        }
      ]
    },
    {
      "cell_type": "markdown",
      "metadata": {
        "id": "GbQhkKIBEQoH"
      },
      "source": [
        "# Analysis of the Data\n",
        "\n",
        "We want to find most imp customers\n",
        "\n",
        "Customers which are frequent\n",
        "\n",
        "Customers which are frequent recently\n",
        "\n",
        "Customers which are frequent recently and also spend a good amount (monetory value)\n",
        "\n",
        "### SO :: Frequency, Recency and Monetory Value all are important\n"
      ]
    },
    {
      "cell_type": "markdown",
      "metadata": {
        "id": "wEF6GtOO_s_5"
      },
      "source": [
        "Find out first and last order date in the data"
      ]
    },
    {
      "cell_type": "code",
      "metadata": {
        "colab": {
          "base_uri": "https://localhost:8080/"
        },
        "id": "A3Mb9VdU_s_5",
        "outputId": "3bcc174d-af92-45c0-c0a5-6834a40aba9c"
      },
      "source": [
        "df1['InvoiceDate'].min()"
      ],
      "execution_count": null,
      "outputs": [
        {
          "output_type": "execute_result",
          "data": {
            "text/plain": [
              "Timestamp('2010-12-01 08:26:00')"
            ]
          },
          "metadata": {},
          "execution_count": 15
        }
      ]
    },
    {
      "cell_type": "code",
      "metadata": {
        "colab": {
          "base_uri": "https://localhost:8080/"
        },
        "id": "v8ZqwEEB_s_6",
        "outputId": "1ce38afa-1cf0-48f3-d1b2-ff3ff1e75c22"
      },
      "source": [
        "df1['InvoiceDate'].max()"
      ],
      "execution_count": null,
      "outputs": [
        {
          "output_type": "execute_result",
          "data": {
            "text/plain": [
              "Timestamp('2011-12-09 12:49:00')"
            ]
          },
          "metadata": {},
          "execution_count": 16
        }
      ]
    },
    {
      "cell_type": "markdown",
      "metadata": {
        "id": "lV5Y8U2K_s_6"
      },
      "source": [
        "Since recency is calculated for a point in time. The last invoice date is 2011-12-09, this is the date we will use to calculate recency."
      ]
    },
    {
      "cell_type": "code",
      "metadata": {
        "id": "bPK-N24-_s_7"
      },
      "source": [
        "import datetime as dt"
      ],
      "execution_count": null,
      "outputs": []
    },
    {
      "cell_type": "code",
      "metadata": {
        "id": "SD_-ov9u_s_7"
      },
      "source": [
        "df1['InvoiceDate'] = pd.to_datetime(df1['InvoiceDate'])"
      ],
      "execution_count": null,
      "outputs": []
    },
    {
      "cell_type": "code",
      "metadata": {
        "colab": {
          "base_uri": "https://localhost:8080/"
        },
        "id": "NVe3P1Ar_s_7",
        "outputId": "dcb9d5a3-048e-4b49-c52f-096ce118a23e"
      },
      "source": [
        "NOW = max(df1['InvoiceDate'])\n",
        "NOW"
      ],
      "execution_count": null,
      "outputs": [
        {
          "output_type": "execute_result",
          "data": {
            "text/plain": [
              "Timestamp('2011-12-09 12:49:00')"
            ]
          },
          "metadata": {},
          "execution_count": 19
        }
      ]
    },
    {
      "cell_type": "markdown",
      "metadata": {
        "id": "qXC0N9W1_s_8"
      },
      "source": [
        "# Create a RFM table\n",
        "\n",
        "### 'recency', 'frequency' , 'monetary_value'"
      ]
    },
    {
      "cell_type": "code",
      "metadata": {
        "id": "8QK2IniR_s_8"
      },
      "source": [
        "rfmTable = df1.groupby('CustomerID').agg({'InvoiceDate': lambda x: (NOW - x.max()).days, # Recency\n",
        "                                        'InvoiceNo': lambda x: len(x.unique()),      # Frequency\n",
        "                                        'TotalPrice': lambda x: x.sum()}) # Monetary Value\n",
        "\n",
        "rfmTable['InvoiceDate'] = rfmTable['InvoiceDate'].astype(int)"
      ],
      "execution_count": null,
      "outputs": []
    },
    {
      "cell_type": "code",
      "metadata": {
        "id": "9IJypeRfNr3J"
      },
      "source": [
        "def recency_calc(x):\n",
        "  return (NOW - x.max()).days\n",
        "\n",
        "def freq_calc(x):\n",
        "  return len(x.unique())\n",
        "\n",
        "def monetary_price_calc(x):\n",
        "  return x.sum()"
      ],
      "execution_count": null,
      "outputs": []
    },
    {
      "cell_type": "code",
      "metadata": {
        "id": "niIdj5oMNoaX"
      },
      "source": [
        "rfmTable = df1.groupby('CustomerID').agg({'InvoiceDate': recency_calc, # Recency\n",
        "                                        'InvoiceNo': freq_calc,      # Frequency\n",
        "                                        'TotalPrice': monetary_price_calc}) # Monetary Value\n",
        "\n",
        "rfmTable['InvoiceDate'] = rfmTable['InvoiceDate'].astype(int)"
      ],
      "execution_count": null,
      "outputs": []
    },
    {
      "cell_type": "code",
      "metadata": {
        "colab": {
          "base_uri": "https://localhost:8080/"
        },
        "id": "LzJmRA-K_s_9",
        "outputId": "4466e310-f669-44df-983b-6a7d688ab2c1"
      },
      "source": [
        "rfmTable.columns"
      ],
      "execution_count": null,
      "outputs": [
        {
          "output_type": "execute_result",
          "data": {
            "text/plain": [
              "Index(['InvoiceDate', 'InvoiceNo', 'TotalPrice'], dtype='object')"
            ]
          },
          "metadata": {},
          "execution_count": 26
        }
      ]
    },
    {
      "cell_type": "code",
      "metadata": {
        "id": "BeWf4p6s_s_9"
      },
      "source": [
        "#rename function\n",
        "rfmTable.columns = ['recency', 'frequency' , 'monetary_value']"
      ],
      "execution_count": null,
      "outputs": []
    },
    {
      "cell_type": "markdown",
      "metadata": {
        "id": "KN6BaUEa_s_-"
      },
      "source": [
        "Calculate RFM metrics for each customer"
      ]
    },
    {
      "cell_type": "code",
      "metadata": {
        "colab": {
          "base_uri": "https://localhost:8080/",
          "height": 237
        },
        "id": "E1LkN3os_s_-",
        "outputId": "dd44fcbe-852d-44a9-d57b-8ce166c94aa4"
      },
      "source": [
        "rfmTable.head()"
      ],
      "execution_count": null,
      "outputs": [
        {
          "output_type": "execute_result",
          "data": {
            "text/html": [
              "<div>\n",
              "<style scoped>\n",
              "    .dataframe tbody tr th:only-of-type {\n",
              "        vertical-align: middle;\n",
              "    }\n",
              "\n",
              "    .dataframe tbody tr th {\n",
              "        vertical-align: top;\n",
              "    }\n",
              "\n",
              "    .dataframe thead th {\n",
              "        text-align: right;\n",
              "    }\n",
              "</style>\n",
              "<table border=\"1\" class=\"dataframe\">\n",
              "  <thead>\n",
              "    <tr style=\"text-align: right;\">\n",
              "      <th></th>\n",
              "      <th>recency</th>\n",
              "      <th>frequency</th>\n",
              "      <th>monetary_value</th>\n",
              "    </tr>\n",
              "    <tr>\n",
              "      <th>CustomerID</th>\n",
              "      <th></th>\n",
              "      <th></th>\n",
              "      <th></th>\n",
              "    </tr>\n",
              "  </thead>\n",
              "  <tbody>\n",
              "    <tr>\n",
              "      <th>12346.0</th>\n",
              "      <td>325</td>\n",
              "      <td>1</td>\n",
              "      <td>77183.60</td>\n",
              "    </tr>\n",
              "    <tr>\n",
              "      <th>12747.0</th>\n",
              "      <td>1</td>\n",
              "      <td>11</td>\n",
              "      <td>4196.01</td>\n",
              "    </tr>\n",
              "    <tr>\n",
              "      <th>12748.0</th>\n",
              "      <td>0</td>\n",
              "      <td>210</td>\n",
              "      <td>33719.73</td>\n",
              "    </tr>\n",
              "    <tr>\n",
              "      <th>12749.0</th>\n",
              "      <td>3</td>\n",
              "      <td>5</td>\n",
              "      <td>4090.88</td>\n",
              "    </tr>\n",
              "    <tr>\n",
              "      <th>12820.0</th>\n",
              "      <td>2</td>\n",
              "      <td>4</td>\n",
              "      <td>942.34</td>\n",
              "    </tr>\n",
              "  </tbody>\n",
              "</table>\n",
              "</div>"
            ],
            "text/plain": [
              "            recency  frequency  monetary_value\n",
              "CustomerID                                    \n",
              "12346.0         325          1        77183.60\n",
              "12747.0           1         11         4196.01\n",
              "12748.0           0        210        33719.73\n",
              "12749.0           3          5         4090.88\n",
              "12820.0           2          4          942.34"
            ]
          },
          "metadata": {},
          "execution_count": 28
        }
      ]
    },
    {
      "cell_type": "markdown",
      "metadata": {
        "id": "WS0Ig6e0_s_-"
      },
      "source": [
        "#### 10 Customers with highest Monetory values"
      ]
    },
    {
      "cell_type": "code",
      "metadata": {
        "colab": {
          "base_uri": "https://localhost:8080/",
          "height": 394
        },
        "id": "jYfXYqiw_s__",
        "outputId": "90e69e54-9d7c-4ce6-851a-3c80ed7eede7"
      },
      "source": [
        "rfmTable.sort_values(['monetary_value'],ascending = False).iloc[:10,:]"
      ],
      "execution_count": null,
      "outputs": [
        {
          "output_type": "execute_result",
          "data": {
            "text/html": [
              "<div>\n",
              "<style scoped>\n",
              "    .dataframe tbody tr th:only-of-type {\n",
              "        vertical-align: middle;\n",
              "    }\n",
              "\n",
              "    .dataframe tbody tr th {\n",
              "        vertical-align: top;\n",
              "    }\n",
              "\n",
              "    .dataframe thead th {\n",
              "        text-align: right;\n",
              "    }\n",
              "</style>\n",
              "<table border=\"1\" class=\"dataframe\">\n",
              "  <thead>\n",
              "    <tr style=\"text-align: right;\">\n",
              "      <th></th>\n",
              "      <th>recency</th>\n",
              "      <th>frequency</th>\n",
              "      <th>monetary_value</th>\n",
              "    </tr>\n",
              "    <tr>\n",
              "      <th>CustomerID</th>\n",
              "      <th></th>\n",
              "      <th></th>\n",
              "      <th></th>\n",
              "    </tr>\n",
              "  </thead>\n",
              "  <tbody>\n",
              "    <tr>\n",
              "      <th>18102.0</th>\n",
              "      <td>0</td>\n",
              "      <td>60</td>\n",
              "      <td>259657.30</td>\n",
              "    </tr>\n",
              "    <tr>\n",
              "      <th>17450.0</th>\n",
              "      <td>7</td>\n",
              "      <td>46</td>\n",
              "      <td>194550.79</td>\n",
              "    </tr>\n",
              "    <tr>\n",
              "      <th>16446.0</th>\n",
              "      <td>0</td>\n",
              "      <td>2</td>\n",
              "      <td>168472.50</td>\n",
              "    </tr>\n",
              "    <tr>\n",
              "      <th>17511.0</th>\n",
              "      <td>2</td>\n",
              "      <td>31</td>\n",
              "      <td>91062.38</td>\n",
              "    </tr>\n",
              "    <tr>\n",
              "      <th>16029.0</th>\n",
              "      <td>38</td>\n",
              "      <td>63</td>\n",
              "      <td>81024.84</td>\n",
              "    </tr>\n",
              "    <tr>\n",
              "      <th>12346.0</th>\n",
              "      <td>325</td>\n",
              "      <td>1</td>\n",
              "      <td>77183.60</td>\n",
              "    </tr>\n",
              "    <tr>\n",
              "      <th>16684.0</th>\n",
              "      <td>3</td>\n",
              "      <td>28</td>\n",
              "      <td>66653.56</td>\n",
              "    </tr>\n",
              "    <tr>\n",
              "      <th>14096.0</th>\n",
              "      <td>3</td>\n",
              "      <td>17</td>\n",
              "      <td>65164.79</td>\n",
              "    </tr>\n",
              "    <tr>\n",
              "      <th>13694.0</th>\n",
              "      <td>3</td>\n",
              "      <td>50</td>\n",
              "      <td>65039.62</td>\n",
              "    </tr>\n",
              "    <tr>\n",
              "      <th>15311.0</th>\n",
              "      <td>0</td>\n",
              "      <td>91</td>\n",
              "      <td>60767.90</td>\n",
              "    </tr>\n",
              "  </tbody>\n",
              "</table>\n",
              "</div>"
            ],
            "text/plain": [
              "            recency  frequency  monetary_value\n",
              "CustomerID                                    \n",
              "18102.0           0         60       259657.30\n",
              "17450.0           7         46       194550.79\n",
              "16446.0           0          2       168472.50\n",
              "17511.0           2         31        91062.38\n",
              "16029.0          38         63        81024.84\n",
              "12346.0         325          1        77183.60\n",
              "16684.0           3         28        66653.56\n",
              "14096.0           3         17        65164.79\n",
              "13694.0           3         50        65039.62\n",
              "15311.0           0         91        60767.90"
            ]
          },
          "metadata": {},
          "execution_count": 33
        }
      ]
    },
    {
      "cell_type": "markdown",
      "metadata": {
        "id": "vBXEq8dE_s__"
      },
      "source": [
        "### Customers with maximum manitory ratio\n",
        "\n",
        "Monitory value per visit"
      ]
    },
    {
      "cell_type": "code",
      "metadata": {
        "id": "HG-POuSc_tAA"
      },
      "source": [
        "rfmTable['m_ratio'] = rfmTable['monetary_value'] / rfmTable['frequency']"
      ],
      "execution_count": null,
      "outputs": []
    },
    {
      "cell_type": "code",
      "metadata": {
        "scrolled": true,
        "colab": {
          "base_uri": "https://localhost:8080/",
          "height": 394
        },
        "id": "gbV-PcDJ_tAA",
        "outputId": "f6f81c34-8460-4e02-e81d-a460f2ecbbf6"
      },
      "source": [
        "rfmTable.sort_values(['m_ratio'],ascending = False).iloc[:10,:]"
      ],
      "execution_count": null,
      "outputs": [
        {
          "output_type": "execute_result",
          "data": {
            "text/html": [
              "<div>\n",
              "<style scoped>\n",
              "    .dataframe tbody tr th:only-of-type {\n",
              "        vertical-align: middle;\n",
              "    }\n",
              "\n",
              "    .dataframe tbody tr th {\n",
              "        vertical-align: top;\n",
              "    }\n",
              "\n",
              "    .dataframe thead th {\n",
              "        text-align: right;\n",
              "    }\n",
              "</style>\n",
              "<table border=\"1\" class=\"dataframe\">\n",
              "  <thead>\n",
              "    <tr style=\"text-align: right;\">\n",
              "      <th></th>\n",
              "      <th>recency</th>\n",
              "      <th>frequency</th>\n",
              "      <th>monetary_value</th>\n",
              "      <th>m_ratio</th>\n",
              "    </tr>\n",
              "    <tr>\n",
              "      <th>CustomerID</th>\n",
              "      <th></th>\n",
              "      <th></th>\n",
              "      <th></th>\n",
              "      <th></th>\n",
              "    </tr>\n",
              "  </thead>\n",
              "  <tbody>\n",
              "    <tr>\n",
              "      <th>16446.0</th>\n",
              "      <td>0</td>\n",
              "      <td>2</td>\n",
              "      <td>168472.50</td>\n",
              "      <td>84236.250000</td>\n",
              "    </tr>\n",
              "    <tr>\n",
              "      <th>12346.0</th>\n",
              "      <td>325</td>\n",
              "      <td>1</td>\n",
              "      <td>77183.60</td>\n",
              "      <td>77183.600000</td>\n",
              "    </tr>\n",
              "    <tr>\n",
              "      <th>15749.0</th>\n",
              "      <td>234</td>\n",
              "      <td>3</td>\n",
              "      <td>44534.30</td>\n",
              "      <td>14844.766667</td>\n",
              "    </tr>\n",
              "    <tr>\n",
              "      <th>15098.0</th>\n",
              "      <td>181</td>\n",
              "      <td>3</td>\n",
              "      <td>39916.50</td>\n",
              "      <td>13305.500000</td>\n",
              "    </tr>\n",
              "    <tr>\n",
              "      <th>18102.0</th>\n",
              "      <td>0</td>\n",
              "      <td>60</td>\n",
              "      <td>259657.30</td>\n",
              "      <td>4327.621667</td>\n",
              "    </tr>\n",
              "    <tr>\n",
              "      <th>18251.0</th>\n",
              "      <td>86</td>\n",
              "      <td>1</td>\n",
              "      <td>4314.72</td>\n",
              "      <td>4314.720000</td>\n",
              "    </tr>\n",
              "    <tr>\n",
              "      <th>17450.0</th>\n",
              "      <td>7</td>\n",
              "      <td>46</td>\n",
              "      <td>194550.79</td>\n",
              "      <td>4229.365000</td>\n",
              "    </tr>\n",
              "    <tr>\n",
              "      <th>16000.0</th>\n",
              "      <td>2</td>\n",
              "      <td>3</td>\n",
              "      <td>12393.70</td>\n",
              "      <td>4131.233333</td>\n",
              "    </tr>\n",
              "    <tr>\n",
              "      <th>14088.0</th>\n",
              "      <td>9</td>\n",
              "      <td>13</td>\n",
              "      <td>50491.81</td>\n",
              "      <td>3883.985385</td>\n",
              "    </tr>\n",
              "    <tr>\n",
              "      <th>15195.0</th>\n",
              "      <td>2</td>\n",
              "      <td>1</td>\n",
              "      <td>3861.00</td>\n",
              "      <td>3861.000000</td>\n",
              "    </tr>\n",
              "  </tbody>\n",
              "</table>\n",
              "</div>"
            ],
            "text/plain": [
              "            recency  frequency  monetary_value       m_ratio\n",
              "CustomerID                                                  \n",
              "16446.0           0          2       168472.50  84236.250000\n",
              "12346.0         325          1        77183.60  77183.600000\n",
              "15749.0         234          3        44534.30  14844.766667\n",
              "15098.0         181          3        39916.50  13305.500000\n",
              "18102.0           0         60       259657.30   4327.621667\n",
              "18251.0          86          1         4314.72   4314.720000\n",
              "17450.0           7         46       194550.79   4229.365000\n",
              "16000.0           2          3        12393.70   4131.233333\n",
              "14088.0           9         13        50491.81   3883.985385\n",
              "15195.0           2          1         3861.00   3861.000000"
            ]
          },
          "metadata": {},
          "execution_count": 35
        }
      ]
    },
    {
      "cell_type": "markdown",
      "metadata": {
        "id": "m39xcxiW_tAA"
      },
      "source": [
        "##### NOTE :: ONLY sorting will not work here"
      ]
    },
    {
      "cell_type": "code",
      "metadata": {
        "id": "D4UvsvCT_tAB",
        "colab": {
          "base_uri": "https://localhost:8080/",
          "height": 455
        },
        "outputId": "4523a86f-93c2-4680-dadb-78e7a1e60d84"
      },
      "source": [
        "rfmTable.sort_values(['frequency', 'monetary_value'], ascending=[True, False])"
      ],
      "execution_count": null,
      "outputs": [
        {
          "output_type": "execute_result",
          "data": {
            "text/html": [
              "<div>\n",
              "<style scoped>\n",
              "    .dataframe tbody tr th:only-of-type {\n",
              "        vertical-align: middle;\n",
              "    }\n",
              "\n",
              "    .dataframe tbody tr th {\n",
              "        vertical-align: top;\n",
              "    }\n",
              "\n",
              "    .dataframe thead th {\n",
              "        text-align: right;\n",
              "    }\n",
              "</style>\n",
              "<table border=\"1\" class=\"dataframe\">\n",
              "  <thead>\n",
              "    <tr style=\"text-align: right;\">\n",
              "      <th></th>\n",
              "      <th>recency</th>\n",
              "      <th>frequency</th>\n",
              "      <th>monetary_value</th>\n",
              "      <th>m_ratio</th>\n",
              "    </tr>\n",
              "    <tr>\n",
              "      <th>CustomerID</th>\n",
              "      <th></th>\n",
              "      <th></th>\n",
              "      <th></th>\n",
              "      <th></th>\n",
              "    </tr>\n",
              "  </thead>\n",
              "  <tbody>\n",
              "    <tr>\n",
              "      <th>12346.0</th>\n",
              "      <td>325</td>\n",
              "      <td>1</td>\n",
              "      <td>77183.60</td>\n",
              "      <td>77183.600000</td>\n",
              "    </tr>\n",
              "    <tr>\n",
              "      <th>15195.0</th>\n",
              "      <td>2</td>\n",
              "      <td>1</td>\n",
              "      <td>3861.00</td>\n",
              "      <td>3861.000000</td>\n",
              "    </tr>\n",
              "    <tr>\n",
              "      <th>13135.0</th>\n",
              "      <td>196</td>\n",
              "      <td>1</td>\n",
              "      <td>3096.00</td>\n",
              "      <td>3096.000000</td>\n",
              "    </tr>\n",
              "    <tr>\n",
              "      <th>17846.0</th>\n",
              "      <td>84</td>\n",
              "      <td>1</td>\n",
              "      <td>2033.10</td>\n",
              "      <td>2033.100000</td>\n",
              "    </tr>\n",
              "    <tr>\n",
              "      <th>18133.0</th>\n",
              "      <td>211</td>\n",
              "      <td>1</td>\n",
              "      <td>931.50</td>\n",
              "      <td>931.500000</td>\n",
              "    </tr>\n",
              "    <tr>\n",
              "      <th>...</th>\n",
              "      <td>...</td>\n",
              "      <td>...</td>\n",
              "      <td>...</td>\n",
              "      <td>...</td>\n",
              "    </tr>\n",
              "    <tr>\n",
              "      <th>15311.0</th>\n",
              "      <td>0</td>\n",
              "      <td>2379</td>\n",
              "      <td>60767.90</td>\n",
              "      <td>25.543464</td>\n",
              "    </tr>\n",
              "    <tr>\n",
              "      <th>14606.0</th>\n",
              "      <td>0</td>\n",
              "      <td>2700</td>\n",
              "      <td>12156.65</td>\n",
              "      <td>4.502463</td>\n",
              "    </tr>\n",
              "    <tr>\n",
              "      <th>12748.0</th>\n",
              "      <td>0</td>\n",
              "      <td>4596</td>\n",
              "      <td>33719.73</td>\n",
              "      <td>7.336756</td>\n",
              "    </tr>\n",
              "    <tr>\n",
              "      <th>14096.0</th>\n",
              "      <td>3</td>\n",
              "      <td>5111</td>\n",
              "      <td>65164.79</td>\n",
              "      <td>12.749910</td>\n",
              "    </tr>\n",
              "    <tr>\n",
              "      <th>17841.0</th>\n",
              "      <td>1</td>\n",
              "      <td>7847</td>\n",
              "      <td>40991.57</td>\n",
              "      <td>5.223852</td>\n",
              "    </tr>\n",
              "  </tbody>\n",
              "</table>\n",
              "<p>3921 rows × 4 columns</p>\n",
              "</div>"
            ],
            "text/plain": [
              "            recency  frequency  monetary_value       m_ratio\n",
              "CustomerID                                                  \n",
              "12346.0         325          1        77183.60  77183.600000\n",
              "15195.0           2          1         3861.00   3861.000000\n",
              "13135.0         196          1         3096.00   3096.000000\n",
              "17846.0          84          1         2033.10   2033.100000\n",
              "18133.0         211          1          931.50    931.500000\n",
              "...             ...        ...             ...           ...\n",
              "15311.0           0       2379        60767.90     25.543464\n",
              "14606.0           0       2700        12156.65      4.502463\n",
              "12748.0           0       4596        33719.73      7.336756\n",
              "14096.0           3       5111        65164.79     12.749910\n",
              "17841.0           1       7847        40991.57      5.223852\n",
              "\n",
              "[3921 rows x 4 columns]"
            ]
          },
          "metadata": {
            "tags": []
          },
          "execution_count": 30
        }
      ]
    },
    {
      "cell_type": "code",
      "metadata": {
        "colab": {
          "base_uri": "https://localhost:8080/",
          "height": 394
        },
        "id": "G-E7GqjCEqrg",
        "outputId": "666f1613-871d-4bd4-b6b3-bcf1a714c640"
      },
      "source": [
        "rfmTable.sort_values(['recency'],ascending = True).iloc[:10,:]"
      ],
      "execution_count": null,
      "outputs": [
        {
          "output_type": "execute_result",
          "data": {
            "text/html": [
              "<div>\n",
              "<style scoped>\n",
              "    .dataframe tbody tr th:only-of-type {\n",
              "        vertical-align: middle;\n",
              "    }\n",
              "\n",
              "    .dataframe tbody tr th {\n",
              "        vertical-align: top;\n",
              "    }\n",
              "\n",
              "    .dataframe thead th {\n",
              "        text-align: right;\n",
              "    }\n",
              "</style>\n",
              "<table border=\"1\" class=\"dataframe\">\n",
              "  <thead>\n",
              "    <tr style=\"text-align: right;\">\n",
              "      <th></th>\n",
              "      <th>recency</th>\n",
              "      <th>frequency</th>\n",
              "      <th>monetary_value</th>\n",
              "      <th>m_ratio</th>\n",
              "    </tr>\n",
              "    <tr>\n",
              "      <th>CustomerID</th>\n",
              "      <th></th>\n",
              "      <th></th>\n",
              "      <th></th>\n",
              "      <th></th>\n",
              "    </tr>\n",
              "  </thead>\n",
              "  <tbody>\n",
              "    <tr>\n",
              "      <th>15344.0</th>\n",
              "      <td>0</td>\n",
              "      <td>26</td>\n",
              "      <td>563.94</td>\n",
              "      <td>21.690000</td>\n",
              "    </tr>\n",
              "    <tr>\n",
              "      <th>17528.0</th>\n",
              "      <td>0</td>\n",
              "      <td>253</td>\n",
              "      <td>3628.50</td>\n",
              "      <td>14.341897</td>\n",
              "    </tr>\n",
              "    <tr>\n",
              "      <th>16626.0</th>\n",
              "      <td>0</td>\n",
              "      <td>179</td>\n",
              "      <td>4413.10</td>\n",
              "      <td>24.654190</td>\n",
              "    </tr>\n",
              "    <tr>\n",
              "      <th>13890.0</th>\n",
              "      <td>0</td>\n",
              "      <td>110</td>\n",
              "      <td>1883.81</td>\n",
              "      <td>17.125545</td>\n",
              "    </tr>\n",
              "    <tr>\n",
              "      <th>16933.0</th>\n",
              "      <td>0</td>\n",
              "      <td>44</td>\n",
              "      <td>563.23</td>\n",
              "      <td>12.800682</td>\n",
              "    </tr>\n",
              "    <tr>\n",
              "      <th>13860.0</th>\n",
              "      <td>0</td>\n",
              "      <td>76</td>\n",
              "      <td>1245.90</td>\n",
              "      <td>16.393421</td>\n",
              "    </tr>\n",
              "    <tr>\n",
              "      <th>13798.0</th>\n",
              "      <td>0</td>\n",
              "      <td>349</td>\n",
              "      <td>37153.85</td>\n",
              "      <td>106.458023</td>\n",
              "    </tr>\n",
              "    <tr>\n",
              "      <th>13777.0</th>\n",
              "      <td>0</td>\n",
              "      <td>197</td>\n",
              "      <td>25977.16</td>\n",
              "      <td>131.863756</td>\n",
              "    </tr>\n",
              "    <tr>\n",
              "      <th>16954.0</th>\n",
              "      <td>0</td>\n",
              "      <td>54</td>\n",
              "      <td>2085.08</td>\n",
              "      <td>38.612593</td>\n",
              "    </tr>\n",
              "    <tr>\n",
              "      <th>17491.0</th>\n",
              "      <td>0</td>\n",
              "      <td>109</td>\n",
              "      <td>3558.87</td>\n",
              "      <td>32.650183</td>\n",
              "    </tr>\n",
              "  </tbody>\n",
              "</table>\n",
              "</div>"
            ],
            "text/plain": [
              "            recency  frequency  monetary_value     m_ratio\n",
              "CustomerID                                                \n",
              "15344.0           0         26          563.94   21.690000\n",
              "17528.0           0        253         3628.50   14.341897\n",
              "16626.0           0        179         4413.10   24.654190\n",
              "13890.0           0        110         1883.81   17.125545\n",
              "16933.0           0         44          563.23   12.800682\n",
              "13860.0           0         76         1245.90   16.393421\n",
              "13798.0           0        349        37153.85  106.458023\n",
              "13777.0           0        197        25977.16  131.863756\n",
              "16954.0           0         54         2085.08   38.612593\n",
              "17491.0           0        109         3558.87   32.650183"
            ]
          },
          "metadata": {
            "tags": []
          },
          "execution_count": 32
        }
      ]
    },
    {
      "cell_type": "code",
      "metadata": {
        "id": "jMF5FA6P_tAB",
        "outputId": "e90105aa-6033-4d1a-e87d-1ff3710ea8a7"
      },
      "source": [
        "(NOW - dt.datetime(2011,1,18)).days==326"
      ],
      "execution_count": null,
      "outputs": [
        {
          "output_type": "execute_result",
          "data": {
            "text/plain": [
              "True"
            ]
          },
          "metadata": {
            "tags": []
          },
          "execution_count": 40
        }
      ]
    },
    {
      "cell_type": "markdown",
      "metadata": {
        "id": "X4u0k33kDG1P"
      },
      "source": [
        "# Large Quantity, Large Frequency and Large Monitory Value Customers"
      ]
    },
    {
      "cell_type": "code",
      "metadata": {
        "id": "9AIgj1NVA32q"
      },
      "source": [
        "rfmTable = df1.groupby('CustomerID').agg({'InvoiceDate': lambda x: (NOW - x.max()).days, # Recency\n",
        "                                        'InvoiceNo': lambda x: len(x.unique()),      # Frequency\n",
        "                                        'TotalPrice': lambda x: x.sum(),\n",
        "                                        'Quantity':lambda x : x.sum()}) # Monetary Value\n",
        "\n",
        "rfmTable['InvoiceDate'] = rfmTable['InvoiceDate'].astype(int)"
      ],
      "execution_count": null,
      "outputs": []
    },
    {
      "cell_type": "code",
      "metadata": {
        "id": "7KgOevkGBjl1"
      },
      "source": [
        "#rename function\n",
        "rfmTable.columns = ['recency', 'frequency' , 'monetary_value','Quantity']"
      ],
      "execution_count": null,
      "outputs": []
    },
    {
      "cell_type": "code",
      "metadata": {
        "colab": {
          "base_uri": "https://localhost:8080/",
          "height": 237
        },
        "id": "x7TDHQBLBS5K",
        "outputId": "543af80e-9646-4f07-ddf1-b263724e3761"
      },
      "source": [
        "rfmTable['Quantity_ratio'] = rfmTable['monetary_value'] * rfmTable['frequency']\n",
        "rfmTable.sort_values('Quantity_ratio',ascending = False,inplace=True)\n",
        "rfmTable.head()"
      ],
      "execution_count": null,
      "outputs": [
        {
          "output_type": "execute_result",
          "data": {
            "text/html": [
              "<div>\n",
              "<style scoped>\n",
              "    .dataframe tbody tr th:only-of-type {\n",
              "        vertical-align: middle;\n",
              "    }\n",
              "\n",
              "    .dataframe tbody tr th {\n",
              "        vertical-align: top;\n",
              "    }\n",
              "\n",
              "    .dataframe thead th {\n",
              "        text-align: right;\n",
              "    }\n",
              "</style>\n",
              "<table border=\"1\" class=\"dataframe\">\n",
              "  <thead>\n",
              "    <tr style=\"text-align: right;\">\n",
              "      <th></th>\n",
              "      <th>recency</th>\n",
              "      <th>frequency</th>\n",
              "      <th>monetary_value</th>\n",
              "      <th>Quantity</th>\n",
              "      <th>Quantity_ratio</th>\n",
              "    </tr>\n",
              "    <tr>\n",
              "      <th>CustomerID</th>\n",
              "      <th></th>\n",
              "      <th></th>\n",
              "      <th></th>\n",
              "      <th></th>\n",
              "      <th></th>\n",
              "    </tr>\n",
              "  </thead>\n",
              "  <tbody>\n",
              "    <tr>\n",
              "      <th>18102.0</th>\n",
              "      <td>0</td>\n",
              "      <td>60</td>\n",
              "      <td>259657.30</td>\n",
              "      <td>64124</td>\n",
              "      <td>15579438.00</td>\n",
              "    </tr>\n",
              "    <tr>\n",
              "      <th>17450.0</th>\n",
              "      <td>7</td>\n",
              "      <td>46</td>\n",
              "      <td>194550.79</td>\n",
              "      <td>69993</td>\n",
              "      <td>8949336.34</td>\n",
              "    </tr>\n",
              "    <tr>\n",
              "      <th>12748.0</th>\n",
              "      <td>0</td>\n",
              "      <td>210</td>\n",
              "      <td>33719.73</td>\n",
              "      <td>25748</td>\n",
              "      <td>7081143.30</td>\n",
              "    </tr>\n",
              "    <tr>\n",
              "      <th>13089.0</th>\n",
              "      <td>2</td>\n",
              "      <td>97</td>\n",
              "      <td>58825.83</td>\n",
              "      <td>31070</td>\n",
              "      <td>5706105.51</td>\n",
              "    </tr>\n",
              "    <tr>\n",
              "      <th>15311.0</th>\n",
              "      <td>0</td>\n",
              "      <td>91</td>\n",
              "      <td>60767.90</td>\n",
              "      <td>38194</td>\n",
              "      <td>5529878.90</td>\n",
              "    </tr>\n",
              "  </tbody>\n",
              "</table>\n",
              "</div>"
            ],
            "text/plain": [
              "            recency  frequency  monetary_value  Quantity  Quantity_ratio\n",
              "CustomerID                                                              \n",
              "18102.0           0         60       259657.30     64124     15579438.00\n",
              "17450.0           7         46       194550.79     69993      8949336.34\n",
              "12748.0           0        210        33719.73     25748      7081143.30\n",
              "13089.0           2         97        58825.83     31070      5706105.51\n",
              "15311.0           0         91        60767.90     38194      5529878.90"
            ]
          },
          "metadata": {},
          "execution_count": 45
        }
      ]
    },
    {
      "cell_type": "code",
      "metadata": {
        "colab": {
          "base_uri": "https://localhost:8080/",
          "height": 842
        },
        "id": "pkp1Evp-G8VG",
        "outputId": "ddf38fcf-c385-4ad7-e694-4c1080617cd8"
      },
      "source": [
        "df1.loc[df1['CustomerID'] == 17450]"
      ],
      "execution_count": null,
      "outputs": [
        {
          "output_type": "execute_result",
          "data": {
            "text/html": [
              "<div>\n",
              "<style scoped>\n",
              "    .dataframe tbody tr th:only-of-type {\n",
              "        vertical-align: middle;\n",
              "    }\n",
              "\n",
              "    .dataframe tbody tr th {\n",
              "        vertical-align: top;\n",
              "    }\n",
              "\n",
              "    .dataframe thead th {\n",
              "        text-align: right;\n",
              "    }\n",
              "</style>\n",
              "<table border=\"1\" class=\"dataframe\">\n",
              "  <thead>\n",
              "    <tr style=\"text-align: right;\">\n",
              "      <th></th>\n",
              "      <th>InvoiceNo</th>\n",
              "      <th>StockCode</th>\n",
              "      <th>Description</th>\n",
              "      <th>Quantity</th>\n",
              "      <th>InvoiceDate</th>\n",
              "      <th>UnitPrice</th>\n",
              "      <th>CustomerID</th>\n",
              "      <th>Country</th>\n",
              "      <th>TotalPrice</th>\n",
              "    </tr>\n",
              "  </thead>\n",
              "  <tbody>\n",
              "    <tr>\n",
              "      <th>14059</th>\n",
              "      <td>537448</td>\n",
              "      <td>21756</td>\n",
              "      <td>BATH BUILDING BLOCK WORD</td>\n",
              "      <td>6</td>\n",
              "      <td>2010-12-07 09:23:00</td>\n",
              "      <td>6.60</td>\n",
              "      <td>17450.0</td>\n",
              "      <td>United Kingdom</td>\n",
              "      <td>39.60</td>\n",
              "    </tr>\n",
              "    <tr>\n",
              "      <th>14067</th>\n",
              "      <td>537456</td>\n",
              "      <td>22469</td>\n",
              "      <td>HEART OF WICKER SMALL</td>\n",
              "      <td>402</td>\n",
              "      <td>2010-12-07 09:43:00</td>\n",
              "      <td>1.93</td>\n",
              "      <td>17450.0</td>\n",
              "      <td>United Kingdom</td>\n",
              "      <td>775.86</td>\n",
              "    </tr>\n",
              "    <tr>\n",
              "      <th>14068</th>\n",
              "      <td>537456</td>\n",
              "      <td>22470</td>\n",
              "      <td>HEART OF WICKER LARGE</td>\n",
              "      <td>378</td>\n",
              "      <td>2010-12-07 09:43:00</td>\n",
              "      <td>3.21</td>\n",
              "      <td>17450.0</td>\n",
              "      <td>United Kingdom</td>\n",
              "      <td>1213.38</td>\n",
              "    </tr>\n",
              "    <tr>\n",
              "      <th>52131</th>\n",
              "      <td>540689</td>\n",
              "      <td>21733</td>\n",
              "      <td>RED HANGING HEART T-LIGHT HOLDER</td>\n",
              "      <td>860</td>\n",
              "      <td>2011-01-11 08:43:00</td>\n",
              "      <td>3.24</td>\n",
              "      <td>17450.0</td>\n",
              "      <td>United Kingdom</td>\n",
              "      <td>2786.40</td>\n",
              "    </tr>\n",
              "    <tr>\n",
              "      <th>52132</th>\n",
              "      <td>540689</td>\n",
              "      <td>85123A</td>\n",
              "      <td>WHITE HANGING HEART T-LIGHT HOLDER</td>\n",
              "      <td>1010</td>\n",
              "      <td>2011-01-11 08:43:00</td>\n",
              "      <td>3.24</td>\n",
              "      <td>17450.0</td>\n",
              "      <td>United Kingdom</td>\n",
              "      <td>3272.40</td>\n",
              "    </tr>\n",
              "    <tr>\n",
              "      <th>...</th>\n",
              "      <td>...</td>\n",
              "      <td>...</td>\n",
              "      <td>...</td>\n",
              "      <td>...</td>\n",
              "      <td>...</td>\n",
              "      <td>...</td>\n",
              "      <td>...</td>\n",
              "      <td>...</td>\n",
              "      <td>...</td>\n",
              "    </tr>\n",
              "    <tr>\n",
              "      <th>517563</th>\n",
              "      <td>580063</td>\n",
              "      <td>82583</td>\n",
              "      <td>HOT BATHS METAL SIGN</td>\n",
              "      <td>96</td>\n",
              "      <td>2011-12-01 13:29:00</td>\n",
              "      <td>2.39</td>\n",
              "      <td>17450.0</td>\n",
              "      <td>United Kingdom</td>\n",
              "      <td>229.44</td>\n",
              "    </tr>\n",
              "    <tr>\n",
              "      <th>517564</th>\n",
              "      <td>580063</td>\n",
              "      <td>82600</td>\n",
              "      <td>N0 SINGING METAL SIGN</td>\n",
              "      <td>96</td>\n",
              "      <td>2011-12-01 13:29:00</td>\n",
              "      <td>2.39</td>\n",
              "      <td>17450.0</td>\n",
              "      <td>United Kingdom</td>\n",
              "      <td>229.44</td>\n",
              "    </tr>\n",
              "    <tr>\n",
              "      <th>517565</th>\n",
              "      <td>580063</td>\n",
              "      <td>21174</td>\n",
              "      <td>POTTERING IN THE SHED METAL SIGN</td>\n",
              "      <td>144</td>\n",
              "      <td>2011-12-01 13:29:00</td>\n",
              "      <td>2.39</td>\n",
              "      <td>17450.0</td>\n",
              "      <td>United Kingdom</td>\n",
              "      <td>344.16</td>\n",
              "    </tr>\n",
              "    <tr>\n",
              "      <th>517566</th>\n",
              "      <td>580063</td>\n",
              "      <td>21166</td>\n",
              "      <td>COOK WITH WINE METAL SIGN</td>\n",
              "      <td>288</td>\n",
              "      <td>2011-12-01 13:29:00</td>\n",
              "      <td>2.39</td>\n",
              "      <td>17450.0</td>\n",
              "      <td>United Kingdom</td>\n",
              "      <td>688.32</td>\n",
              "    </tr>\n",
              "    <tr>\n",
              "      <th>517567</th>\n",
              "      <td>580063</td>\n",
              "      <td>82580</td>\n",
              "      <td>BATHROOM METAL SIGN</td>\n",
              "      <td>96</td>\n",
              "      <td>2011-12-01 13:29:00</td>\n",
              "      <td>0.74</td>\n",
              "      <td>17450.0</td>\n",
              "      <td>United Kingdom</td>\n",
              "      <td>71.04</td>\n",
              "    </tr>\n",
              "  </tbody>\n",
              "</table>\n",
              "<p>337 rows × 9 columns</p>\n",
              "</div>"
            ],
            "text/plain": [
              "       InvoiceNo StockCode  ...         Country  TotalPrice\n",
              "14059     537448     21756  ...  United Kingdom       39.60\n",
              "14067     537456     22469  ...  United Kingdom      775.86\n",
              "14068     537456     22470  ...  United Kingdom     1213.38\n",
              "52131     540689     21733  ...  United Kingdom     2786.40\n",
              "52132     540689    85123A  ...  United Kingdom     3272.40\n",
              "...          ...       ...  ...             ...         ...\n",
              "517563    580063     82583  ...  United Kingdom      229.44\n",
              "517564    580063     82600  ...  United Kingdom      229.44\n",
              "517565    580063     21174  ...  United Kingdom      344.16\n",
              "517566    580063     21166  ...  United Kingdom      688.32\n",
              "517567    580063     82580  ...  United Kingdom       71.04\n",
              "\n",
              "[337 rows x 9 columns]"
            ]
          },
          "metadata": {},
          "execution_count": 48
        }
      ]
    },
    {
      "cell_type": "code",
      "metadata": {
        "colab": {
          "base_uri": "https://localhost:8080/",
          "height": 300
        },
        "id": "1s7PJy-jHNPY",
        "outputId": "b1e7019c-cf96-4ece-8efa-57a885aa12f3"
      },
      "source": [
        "df1.describe()"
      ],
      "execution_count": null,
      "outputs": [
        {
          "output_type": "execute_result",
          "data": {
            "text/html": [
              "<div>\n",
              "<style scoped>\n",
              "    .dataframe tbody tr th:only-of-type {\n",
              "        vertical-align: middle;\n",
              "    }\n",
              "\n",
              "    .dataframe tbody tr th {\n",
              "        vertical-align: top;\n",
              "    }\n",
              "\n",
              "    .dataframe thead th {\n",
              "        text-align: right;\n",
              "    }\n",
              "</style>\n",
              "<table border=\"1\" class=\"dataframe\">\n",
              "  <thead>\n",
              "    <tr style=\"text-align: right;\">\n",
              "      <th></th>\n",
              "      <th>Quantity</th>\n",
              "      <th>UnitPrice</th>\n",
              "      <th>CustomerID</th>\n",
              "      <th>TotalPrice</th>\n",
              "    </tr>\n",
              "  </thead>\n",
              "  <tbody>\n",
              "    <tr>\n",
              "      <th>count</th>\n",
              "      <td>354345.000000</td>\n",
              "      <td>354345.000000</td>\n",
              "      <td>354345.000000</td>\n",
              "      <td>354345.000000</td>\n",
              "    </tr>\n",
              "    <tr>\n",
              "      <th>mean</th>\n",
              "      <td>12.048913</td>\n",
              "      <td>2.963793</td>\n",
              "      <td>15552.436219</td>\n",
              "      <td>20.625073</td>\n",
              "    </tr>\n",
              "    <tr>\n",
              "      <th>std</th>\n",
              "      <td>190.428127</td>\n",
              "      <td>17.862067</td>\n",
              "      <td>1594.546025</td>\n",
              "      <td>326.033014</td>\n",
              "    </tr>\n",
              "    <tr>\n",
              "      <th>min</th>\n",
              "      <td>1.000000</td>\n",
              "      <td>0.000000</td>\n",
              "      <td>12346.000000</td>\n",
              "      <td>0.000000</td>\n",
              "    </tr>\n",
              "    <tr>\n",
              "      <th>25%</th>\n",
              "      <td>2.000000</td>\n",
              "      <td>1.250000</td>\n",
              "      <td>14194.000000</td>\n",
              "      <td>4.160000</td>\n",
              "    </tr>\n",
              "    <tr>\n",
              "      <th>50%</th>\n",
              "      <td>4.000000</td>\n",
              "      <td>1.950000</td>\n",
              "      <td>15522.000000</td>\n",
              "      <td>10.200000</td>\n",
              "    </tr>\n",
              "    <tr>\n",
              "      <th>75%</th>\n",
              "      <td>12.000000</td>\n",
              "      <td>3.750000</td>\n",
              "      <td>16931.000000</td>\n",
              "      <td>17.700000</td>\n",
              "    </tr>\n",
              "    <tr>\n",
              "      <th>max</th>\n",
              "      <td>80995.000000</td>\n",
              "      <td>8142.750000</td>\n",
              "      <td>18287.000000</td>\n",
              "      <td>168469.600000</td>\n",
              "    </tr>\n",
              "  </tbody>\n",
              "</table>\n",
              "</div>"
            ],
            "text/plain": [
              "            Quantity      UnitPrice     CustomerID     TotalPrice\n",
              "count  354345.000000  354345.000000  354345.000000  354345.000000\n",
              "mean       12.048913       2.963793   15552.436219      20.625073\n",
              "std       190.428127      17.862067    1594.546025     326.033014\n",
              "min         1.000000       0.000000   12346.000000       0.000000\n",
              "25%         2.000000       1.250000   14194.000000       4.160000\n",
              "50%         4.000000       1.950000   15522.000000      10.200000\n",
              "75%        12.000000       3.750000   16931.000000      17.700000\n",
              "max     80995.000000    8142.750000   18287.000000  168469.600000"
            ]
          },
          "metadata": {},
          "execution_count": 47
        }
      ]
    },
    {
      "cell_type": "markdown",
      "metadata": {
        "id": "XOyjkd95H3KC"
      },
      "source": [
        "# Quartile wise Analysis"
      ]
    },
    {
      "cell_type": "markdown",
      "metadata": {
        "id": "LWPPaVts_tAC"
      },
      "source": [
        "The easies way to split metrics into segments is by using quartile. \n",
        "\n",
        "1. This gives us a starting point for detailed analysis\n",
        "2. 4 segments are easy to understand and explain"
      ]
    },
    {
      "cell_type": "code",
      "metadata": {
        "colab": {
          "base_uri": "https://localhost:8080/",
          "height": 300
        },
        "id": "kKkbGOYFQsYT",
        "outputId": "3dbeca59-bb95-42dc-f7fd-b1f954c259e0"
      },
      "source": [
        "rfmTable.describe()"
      ],
      "execution_count": null,
      "outputs": [
        {
          "output_type": "execute_result",
          "data": {
            "text/html": [
              "<div>\n",
              "<style scoped>\n",
              "    .dataframe tbody tr th:only-of-type {\n",
              "        vertical-align: middle;\n",
              "    }\n",
              "\n",
              "    .dataframe tbody tr th {\n",
              "        vertical-align: top;\n",
              "    }\n",
              "\n",
              "    .dataframe thead th {\n",
              "        text-align: right;\n",
              "    }\n",
              "</style>\n",
              "<table border=\"1\" class=\"dataframe\">\n",
              "  <thead>\n",
              "    <tr style=\"text-align: right;\">\n",
              "      <th></th>\n",
              "      <th>recency</th>\n",
              "      <th>frequency</th>\n",
              "      <th>monetary_value</th>\n",
              "      <th>Quantity</th>\n",
              "      <th>Quantity_ratio</th>\n",
              "    </tr>\n",
              "  </thead>\n",
              "  <tbody>\n",
              "    <tr>\n",
              "      <th>count</th>\n",
              "      <td>3921.000000</td>\n",
              "      <td>3921.000000</td>\n",
              "      <td>3921.000000</td>\n",
              "      <td>3921.000000</td>\n",
              "      <td>3.921000e+03</td>\n",
              "    </tr>\n",
              "    <tr>\n",
              "      <th>mean</th>\n",
              "      <td>91.188472</td>\n",
              "      <td>4.246111</td>\n",
              "      <td>1863.910113</td>\n",
              "      <td>1088.873247</td>\n",
              "      <td>3.532274e+04</td>\n",
              "    </tr>\n",
              "    <tr>\n",
              "      <th>std</th>\n",
              "      <td>99.528995</td>\n",
              "      <td>7.205750</td>\n",
              "      <td>7481.922217</td>\n",
              "      <td>3741.619824</td>\n",
              "      <td>3.771969e+05</td>\n",
              "    </tr>\n",
              "    <tr>\n",
              "      <th>min</th>\n",
              "      <td>0.000000</td>\n",
              "      <td>1.000000</td>\n",
              "      <td>0.000000</td>\n",
              "      <td>1.000000</td>\n",
              "      <td>0.000000e+00</td>\n",
              "    </tr>\n",
              "    <tr>\n",
              "      <th>25%</th>\n",
              "      <td>17.000000</td>\n",
              "      <td>1.000000</td>\n",
              "      <td>300.040000</td>\n",
              "      <td>154.000000</td>\n",
              "      <td>3.450000e+02</td>\n",
              "    </tr>\n",
              "    <tr>\n",
              "      <th>50%</th>\n",
              "      <td>50.000000</td>\n",
              "      <td>2.000000</td>\n",
              "      <td>651.820000</td>\n",
              "      <td>365.000000</td>\n",
              "      <td>1.414530e+03</td>\n",
              "    </tr>\n",
              "    <tr>\n",
              "      <th>75%</th>\n",
              "      <td>142.000000</td>\n",
              "      <td>5.000000</td>\n",
              "      <td>1575.890000</td>\n",
              "      <td>951.000000</td>\n",
              "      <td>7.032950e+03</td>\n",
              "    </tr>\n",
              "    <tr>\n",
              "      <th>max</th>\n",
              "      <td>373.000000</td>\n",
              "      <td>210.000000</td>\n",
              "      <td>259657.300000</td>\n",
              "      <td>80997.000000</td>\n",
              "      <td>1.557944e+07</td>\n",
              "    </tr>\n",
              "  </tbody>\n",
              "</table>\n",
              "</div>"
            ],
            "text/plain": [
              "           recency    frequency  monetary_value      Quantity  Quantity_ratio\n",
              "count  3921.000000  3921.000000     3921.000000   3921.000000    3.921000e+03\n",
              "mean     91.188472     4.246111     1863.910113   1088.873247    3.532274e+04\n",
              "std      99.528995     7.205750     7481.922217   3741.619824    3.771969e+05\n",
              "min       0.000000     1.000000        0.000000      1.000000    0.000000e+00\n",
              "25%      17.000000     1.000000      300.040000    154.000000    3.450000e+02\n",
              "50%      50.000000     2.000000      651.820000    365.000000    1.414530e+03\n",
              "75%     142.000000     5.000000     1575.890000    951.000000    7.032950e+03\n",
              "max     373.000000   210.000000   259657.300000  80997.000000    1.557944e+07"
            ]
          },
          "metadata": {},
          "execution_count": 49
        }
      ]
    },
    {
      "cell_type": "code",
      "metadata": {
        "colab": {
          "base_uri": "https://localhost:8080/",
          "height": 206
        },
        "id": "n5rB7eQj_tAC",
        "outputId": "89cb2e82-8906-4866-ac90-a0982b599426"
      },
      "source": [
        "quantiles = rfmTable.quantile(q=[0.05,0.25,0.5,0.75,0.95])\n",
        "quantiles"
      ],
      "execution_count": null,
      "outputs": [
        {
          "output_type": "execute_result",
          "data": {
            "text/html": [
              "<div>\n",
              "<style scoped>\n",
              "    .dataframe tbody tr th:only-of-type {\n",
              "        vertical-align: middle;\n",
              "    }\n",
              "\n",
              "    .dataframe tbody tr th {\n",
              "        vertical-align: top;\n",
              "    }\n",
              "\n",
              "    .dataframe thead th {\n",
              "        text-align: right;\n",
              "    }\n",
              "</style>\n",
              "<table border=\"1\" class=\"dataframe\">\n",
              "  <thead>\n",
              "    <tr style=\"text-align: right;\">\n",
              "      <th></th>\n",
              "      <th>recency</th>\n",
              "      <th>frequency</th>\n",
              "      <th>monetary_value</th>\n",
              "      <th>Quantity</th>\n",
              "      <th>Quantity_ratio</th>\n",
              "    </tr>\n",
              "  </thead>\n",
              "  <tbody>\n",
              "    <tr>\n",
              "      <th>0.05</th>\n",
              "      <td>2.0</td>\n",
              "      <td>1.0</td>\n",
              "      <td>110.75</td>\n",
              "      <td>44.0</td>\n",
              "      <td>112.75</td>\n",
              "    </tr>\n",
              "    <tr>\n",
              "      <th>0.25</th>\n",
              "      <td>17.0</td>\n",
              "      <td>1.0</td>\n",
              "      <td>300.04</td>\n",
              "      <td>154.0</td>\n",
              "      <td>345.00</td>\n",
              "    </tr>\n",
              "    <tr>\n",
              "      <th>0.50</th>\n",
              "      <td>50.0</td>\n",
              "      <td>2.0</td>\n",
              "      <td>651.82</td>\n",
              "      <td>365.0</td>\n",
              "      <td>1414.53</td>\n",
              "    </tr>\n",
              "    <tr>\n",
              "      <th>0.75</th>\n",
              "      <td>142.0</td>\n",
              "      <td>5.0</td>\n",
              "      <td>1575.89</td>\n",
              "      <td>951.0</td>\n",
              "      <td>7032.95</td>\n",
              "    </tr>\n",
              "    <tr>\n",
              "      <th>0.95</th>\n",
              "      <td>310.0</td>\n",
              "      <td>13.0</td>\n",
              "      <td>5493.46</td>\n",
              "      <td>3412.0</td>\n",
              "      <td>67841.90</td>\n",
              "    </tr>\n",
              "  </tbody>\n",
              "</table>\n",
              "</div>"
            ],
            "text/plain": [
              "      recency  frequency  monetary_value  Quantity  Quantity_ratio\n",
              "0.05      2.0        1.0          110.75      44.0          112.75\n",
              "0.25     17.0        1.0          300.04     154.0          345.00\n",
              "0.50     50.0        2.0          651.82     365.0         1414.53\n",
              "0.75    142.0        5.0         1575.89     951.0         7032.95\n",
              "0.95    310.0       13.0         5493.46    3412.0        67841.90"
            ]
          },
          "metadata": {},
          "execution_count": 50
        }
      ]
    },
    {
      "cell_type": "code",
      "metadata": {
        "colab": {
          "base_uri": "https://localhost:8080/"
        },
        "id": "CpoQmRV2_tAD",
        "outputId": "2f6d4960-e3eb-4b45-8e84-d145882f533c"
      },
      "source": [
        "quantiles = quantiles.to_dict()\n",
        "quantiles"
      ],
      "execution_count": null,
      "outputs": [
        {
          "output_type": "execute_result",
          "data": {
            "text/plain": [
              "{'Quantity': {0.05: 44.0, 0.25: 154.0, 0.5: 365.0, 0.75: 951.0, 0.95: 3412.0},\n",
              " 'Quantity_ratio': {0.05: 112.75000000000001,\n",
              "  0.25: 345.0,\n",
              "  0.5: 1414.53,\n",
              "  0.75: 7032.950000000001,\n",
              "  0.95: 67841.90000000001},\n",
              " 'frequency': {0.05: 1.0, 0.25: 1.0, 0.5: 2.0, 0.75: 5.0, 0.95: 13.0},\n",
              " 'monetary_value': {0.05: 110.75,\n",
              "  0.25: 300.03999999999996,\n",
              "  0.5: 651.8199999999999,\n",
              "  0.75: 1575.89,\n",
              "  0.95: 5493.46},\n",
              " 'recency': {0.05: 2.0, 0.25: 17.0, 0.5: 50.0, 0.75: 142.0, 0.95: 310.0}}"
            ]
          },
          "metadata": {},
          "execution_count": 51
        }
      ]
    },
    {
      "cell_type": "markdown",
      "metadata": {
        "id": "bMxNSO4P_tAD"
      },
      "source": [
        "Create a segmented RFM table"
      ]
    },
    {
      "cell_type": "code",
      "metadata": {
        "id": "BsjiNvHH_tAE"
      },
      "source": [
        "segmented_rfm = rfmTable"
      ],
      "execution_count": null,
      "outputs": []
    },
    {
      "cell_type": "markdown",
      "metadata": {
        "id": "WVXCDpoo_tAE"
      },
      "source": [
        "Lowest recency, highest frequency and monetary are our best customers "
      ]
    },
    {
      "cell_type": "markdown",
      "metadata": {
        "id": "-9ehaulh1ENQ"
      },
      "source": [
        "### Segment Customers on Recency using Quantiles"
      ]
    },
    {
      "cell_type": "code",
      "metadata": {
        "id": "nINx5i45_tAG"
      },
      "source": [
        "def RScore_simple(x): # Simple recency score function with fixed values\n",
        "    if x <= 17.0:\n",
        "        return 1\n",
        "    elif x <= 50.0:\n",
        "        return 2\n",
        "    elif x <= 141.5: \n",
        "        return 3\n",
        "    else:\n",
        "        return 4"
      ],
      "execution_count": null,
      "outputs": []
    },
    {
      "cell_type": "code",
      "metadata": {
        "id": "S6cY5SQV_tAG"
      },
      "source": [
        "def RScore(x,p,d): # Recency score segmentation by using quantile \n",
        "    if x <= d[p][0.25]:#17.0\n",
        "        return 1\n",
        "    elif x <= d[p][0.50]:#50.0\n",
        "        return 2\n",
        "    elif x <= d[p][0.75]: \n",
        "        return 3\n",
        "    else:\n",
        "        return 4\n",
        "    \n",
        "def FMScore(x,p,d): # Single function to segment frequency and monetory value by parameters\n",
        "    if x <= d[p][0.25]:\n",
        "        return 4\n",
        "    elif x <= d[p][0.50]:\n",
        "        return 3\n",
        "    elif x <= d[p][0.75]: \n",
        "        return 2\n",
        "    else:\n",
        "        return 1"
      ],
      "execution_count": null,
      "outputs": []
    },
    {
      "cell_type": "markdown",
      "metadata": {
        "id": "uWpLeUK9_tAH"
      },
      "source": [
        "Add segment numbers to the RFM table"
      ]
    },
    {
      "cell_type": "code",
      "metadata": {
        "id": "KvzKxSXm_tAG"
      },
      "source": [
        "segmented_rfm['r_quartile'] = segmented_rfm['recency'].apply(RScore_simple)#, args=('recency',quantiles,))\n",
        "segmented_rfm['f_quartile'] = segmented_rfm['frequency'].apply(FMScore, args=('frequency',quantiles,))\n",
        "segmented_rfm['m_quartile'] = segmented_rfm['monetary_value'].apply(FMScore, args=('monetary_value',quantiles,))"
      ],
      "execution_count": null,
      "outputs": []
    },
    {
      "cell_type": "code",
      "metadata": {
        "colab": {
          "base_uri": "https://localhost:8080/",
          "height": 257
        },
        "id": "LWZeSmGo_tAH",
        "outputId": "25075006-8c85-431d-880d-830a2a8ed791"
      },
      "source": [
        "segmented_rfm.head()"
      ],
      "execution_count": null,
      "outputs": [
        {
          "output_type": "execute_result",
          "data": {
            "text/html": [
              "<div>\n",
              "<style scoped>\n",
              "    .dataframe tbody tr th:only-of-type {\n",
              "        vertical-align: middle;\n",
              "    }\n",
              "\n",
              "    .dataframe tbody tr th {\n",
              "        vertical-align: top;\n",
              "    }\n",
              "\n",
              "    .dataframe thead th {\n",
              "        text-align: right;\n",
              "    }\n",
              "</style>\n",
              "<table border=\"1\" class=\"dataframe\">\n",
              "  <thead>\n",
              "    <tr style=\"text-align: right;\">\n",
              "      <th></th>\n",
              "      <th>recency</th>\n",
              "      <th>frequency</th>\n",
              "      <th>monetary_value</th>\n",
              "      <th>Quantity</th>\n",
              "      <th>Quantity_ratio</th>\n",
              "      <th>r_quartile</th>\n",
              "      <th>f_quartile</th>\n",
              "      <th>m_quartile</th>\n",
              "    </tr>\n",
              "    <tr>\n",
              "      <th>CustomerID</th>\n",
              "      <th></th>\n",
              "      <th></th>\n",
              "      <th></th>\n",
              "      <th></th>\n",
              "      <th></th>\n",
              "      <th></th>\n",
              "      <th></th>\n",
              "      <th></th>\n",
              "    </tr>\n",
              "  </thead>\n",
              "  <tbody>\n",
              "    <tr>\n",
              "      <th>18102.0</th>\n",
              "      <td>0</td>\n",
              "      <td>60</td>\n",
              "      <td>259657.30</td>\n",
              "      <td>64124</td>\n",
              "      <td>15579438.00</td>\n",
              "      <td>1</td>\n",
              "      <td>1</td>\n",
              "      <td>1</td>\n",
              "    </tr>\n",
              "    <tr>\n",
              "      <th>17450.0</th>\n",
              "      <td>7</td>\n",
              "      <td>46</td>\n",
              "      <td>194550.79</td>\n",
              "      <td>69993</td>\n",
              "      <td>8949336.34</td>\n",
              "      <td>1</td>\n",
              "      <td>1</td>\n",
              "      <td>1</td>\n",
              "    </tr>\n",
              "    <tr>\n",
              "      <th>12748.0</th>\n",
              "      <td>0</td>\n",
              "      <td>210</td>\n",
              "      <td>33719.73</td>\n",
              "      <td>25748</td>\n",
              "      <td>7081143.30</td>\n",
              "      <td>1</td>\n",
              "      <td>1</td>\n",
              "      <td>1</td>\n",
              "    </tr>\n",
              "    <tr>\n",
              "      <th>13089.0</th>\n",
              "      <td>2</td>\n",
              "      <td>97</td>\n",
              "      <td>58825.83</td>\n",
              "      <td>31070</td>\n",
              "      <td>5706105.51</td>\n",
              "      <td>1</td>\n",
              "      <td>1</td>\n",
              "      <td>1</td>\n",
              "    </tr>\n",
              "    <tr>\n",
              "      <th>15311.0</th>\n",
              "      <td>0</td>\n",
              "      <td>91</td>\n",
              "      <td>60767.90</td>\n",
              "      <td>38194</td>\n",
              "      <td>5529878.90</td>\n",
              "      <td>1</td>\n",
              "      <td>1</td>\n",
              "      <td>1</td>\n",
              "    </tr>\n",
              "  </tbody>\n",
              "</table>\n",
              "</div>"
            ],
            "text/plain": [
              "            recency  frequency  ...  f_quartile  m_quartile\n",
              "CustomerID                      ...                        \n",
              "18102.0           0         60  ...           1           1\n",
              "17450.0           7         46  ...           1           1\n",
              "12748.0           0        210  ...           1           1\n",
              "13089.0           2         97  ...           1           1\n",
              "15311.0           0         91  ...           1           1\n",
              "\n",
              "[5 rows x 8 columns]"
            ]
          },
          "metadata": {},
          "execution_count": 56
        }
      ]
    },
    {
      "cell_type": "markdown",
      "metadata": {
        "id": "5Oh-CrYm_tAI"
      },
      "source": [
        "RFM segments split your customer base into an imaginary 3D cube. It is hard to visualize. However, we can sort it out.\n",
        "\n",
        "Add a new column to combine RFM score, 111 is the highest score as we determined earlier."
      ]
    },
    {
      "cell_type": "code",
      "metadata": {
        "colab": {
          "base_uri": "https://localhost:8080/",
          "height": 257
        },
        "id": "0jT1flJl_tAI",
        "outputId": "8519d546-a8ab-495e-c1de-13b821888e2f"
      },
      "source": [
        "segmented_rfm['RFMScore'] = segmented_rfm.r_quartile.map(str) \\\n",
        "                            + segmented_rfm.f_quartile.map(str) \\\n",
        "                            + segmented_rfm.m_quartile.map(str)\n",
        "segmented_rfm.head()"
      ],
      "execution_count": null,
      "outputs": [
        {
          "output_type": "execute_result",
          "data": {
            "text/html": [
              "<div>\n",
              "<style scoped>\n",
              "    .dataframe tbody tr th:only-of-type {\n",
              "        vertical-align: middle;\n",
              "    }\n",
              "\n",
              "    .dataframe tbody tr th {\n",
              "        vertical-align: top;\n",
              "    }\n",
              "\n",
              "    .dataframe thead th {\n",
              "        text-align: right;\n",
              "    }\n",
              "</style>\n",
              "<table border=\"1\" class=\"dataframe\">\n",
              "  <thead>\n",
              "    <tr style=\"text-align: right;\">\n",
              "      <th></th>\n",
              "      <th>recency</th>\n",
              "      <th>frequency</th>\n",
              "      <th>monetary_value</th>\n",
              "      <th>Quantity</th>\n",
              "      <th>Quantity_ratio</th>\n",
              "      <th>r_quartile</th>\n",
              "      <th>f_quartile</th>\n",
              "      <th>m_quartile</th>\n",
              "      <th>RFMScore</th>\n",
              "    </tr>\n",
              "    <tr>\n",
              "      <th>CustomerID</th>\n",
              "      <th></th>\n",
              "      <th></th>\n",
              "      <th></th>\n",
              "      <th></th>\n",
              "      <th></th>\n",
              "      <th></th>\n",
              "      <th></th>\n",
              "      <th></th>\n",
              "      <th></th>\n",
              "    </tr>\n",
              "  </thead>\n",
              "  <tbody>\n",
              "    <tr>\n",
              "      <th>18102.0</th>\n",
              "      <td>0</td>\n",
              "      <td>60</td>\n",
              "      <td>259657.30</td>\n",
              "      <td>64124</td>\n",
              "      <td>15579438.00</td>\n",
              "      <td>1</td>\n",
              "      <td>1</td>\n",
              "      <td>1</td>\n",
              "      <td>111</td>\n",
              "    </tr>\n",
              "    <tr>\n",
              "      <th>17450.0</th>\n",
              "      <td>7</td>\n",
              "      <td>46</td>\n",
              "      <td>194550.79</td>\n",
              "      <td>69993</td>\n",
              "      <td>8949336.34</td>\n",
              "      <td>1</td>\n",
              "      <td>1</td>\n",
              "      <td>1</td>\n",
              "      <td>111</td>\n",
              "    </tr>\n",
              "    <tr>\n",
              "      <th>12748.0</th>\n",
              "      <td>0</td>\n",
              "      <td>210</td>\n",
              "      <td>33719.73</td>\n",
              "      <td>25748</td>\n",
              "      <td>7081143.30</td>\n",
              "      <td>1</td>\n",
              "      <td>1</td>\n",
              "      <td>1</td>\n",
              "      <td>111</td>\n",
              "    </tr>\n",
              "    <tr>\n",
              "      <th>13089.0</th>\n",
              "      <td>2</td>\n",
              "      <td>97</td>\n",
              "      <td>58825.83</td>\n",
              "      <td>31070</td>\n",
              "      <td>5706105.51</td>\n",
              "      <td>1</td>\n",
              "      <td>1</td>\n",
              "      <td>1</td>\n",
              "      <td>111</td>\n",
              "    </tr>\n",
              "    <tr>\n",
              "      <th>15311.0</th>\n",
              "      <td>0</td>\n",
              "      <td>91</td>\n",
              "      <td>60767.90</td>\n",
              "      <td>38194</td>\n",
              "      <td>5529878.90</td>\n",
              "      <td>1</td>\n",
              "      <td>1</td>\n",
              "      <td>1</td>\n",
              "      <td>111</td>\n",
              "    </tr>\n",
              "  </tbody>\n",
              "</table>\n",
              "</div>"
            ],
            "text/plain": [
              "            recency  frequency  monetary_value  ...  f_quartile  m_quartile  RFMScore\n",
              "CustomerID                                      ...                                  \n",
              "18102.0           0         60       259657.30  ...           1           1       111\n",
              "17450.0           7         46       194550.79  ...           1           1       111\n",
              "12748.0           0        210        33719.73  ...           1           1       111\n",
              "13089.0           2         97        58825.83  ...           1           1       111\n",
              "15311.0           0         91        60767.90  ...           1           1       111\n",
              "\n",
              "[5 rows x 9 columns]"
            ]
          },
          "metadata": {},
          "execution_count": 57
        }
      ]
    },
    {
      "cell_type": "code",
      "metadata": {
        "colab": {
          "base_uri": "https://localhost:8080/"
        },
        "id": "Yfb9TohEIcr6",
        "outputId": "32ee8a19-3716-4181-b4d3-17bcc5f032de"
      },
      "source": [
        "segmented_rfm['RFMScore'].unique()"
      ],
      "execution_count": null,
      "outputs": [
        {
          "output_type": "execute_result",
          "data": {
            "text/plain": [
              "array(['111', '211', '131', '411', '421', '311', '441', '212', '121',\n",
              "       '321', '221', '112', '312', '331', '222', '122', '322', '422',\n",
              "       '231', '412', '431', '341', '141', '413', '313', '113', '432',\n",
              "       '223', '332', '123', '232', '132', '423', '323', '241', '342',\n",
              "       '114', '242', '442', '333', '133', '433', '233', '142', '424',\n",
              "       '124', '224', '324', '443', '343', '143', '243', '434', '234',\n",
              "       '334', '134', '414', '444', '344', '244', '144'], dtype=object)"
            ]
          },
          "metadata": {},
          "execution_count": 58
        }
      ]
    },
    {
      "cell_type": "code",
      "metadata": {
        "colab": {
          "base_uri": "https://localhost:8080/"
        },
        "id": "hklQfgoEIg8u",
        "outputId": "ac470e8e-c93c-4b70-c66a-ddb8947cbae2"
      },
      "source": [
        "len(segmented_rfm['RFMScore'].unique())"
      ],
      "execution_count": null,
      "outputs": [
        {
          "output_type": "execute_result",
          "data": {
            "text/plain": [
              "61"
            ]
          },
          "metadata": {},
          "execution_count": 59
        }
      ]
    },
    {
      "cell_type": "markdown",
      "metadata": {
        "id": "CcoPerk4_tAJ"
      },
      "source": [
        "Apparently, the first customer is not our best customer at all."
      ]
    },
    {
      "cell_type": "markdown",
      "metadata": {
        "id": "Ppdpsrmd_tAJ"
      },
      "source": [
        "Here is top 10 of our best customers!"
      ]
    },
    {
      "cell_type": "code",
      "metadata": {
        "colab": {
          "base_uri": "https://localhost:8080/",
          "height": 414
        },
        "id": "U2hpto7S_tAJ",
        "outputId": "ccd8c2dc-740d-4806-da7b-2677a9d570c6"
      },
      "source": [
        "segmented_rfm[segmented_rfm['RFMScore']=='111'].sort_values('monetary_value', ascending=False).head(10)"
      ],
      "execution_count": null,
      "outputs": [
        {
          "output_type": "execute_result",
          "data": {
            "text/html": [
              "<div>\n",
              "<style scoped>\n",
              "    .dataframe tbody tr th:only-of-type {\n",
              "        vertical-align: middle;\n",
              "    }\n",
              "\n",
              "    .dataframe tbody tr th {\n",
              "        vertical-align: top;\n",
              "    }\n",
              "\n",
              "    .dataframe thead th {\n",
              "        text-align: right;\n",
              "    }\n",
              "</style>\n",
              "<table border=\"1\" class=\"dataframe\">\n",
              "  <thead>\n",
              "    <tr style=\"text-align: right;\">\n",
              "      <th></th>\n",
              "      <th>recency</th>\n",
              "      <th>frequency</th>\n",
              "      <th>monetary_value</th>\n",
              "      <th>Quantity</th>\n",
              "      <th>Quantity_ratio</th>\n",
              "      <th>r_quartile</th>\n",
              "      <th>f_quartile</th>\n",
              "      <th>m_quartile</th>\n",
              "      <th>RFMScore</th>\n",
              "    </tr>\n",
              "    <tr>\n",
              "      <th>CustomerID</th>\n",
              "      <th></th>\n",
              "      <th></th>\n",
              "      <th></th>\n",
              "      <th></th>\n",
              "      <th></th>\n",
              "      <th></th>\n",
              "      <th></th>\n",
              "      <th></th>\n",
              "      <th></th>\n",
              "    </tr>\n",
              "  </thead>\n",
              "  <tbody>\n",
              "    <tr>\n",
              "      <th>18102.0</th>\n",
              "      <td>0</td>\n",
              "      <td>60</td>\n",
              "      <td>259657.30</td>\n",
              "      <td>64124</td>\n",
              "      <td>15579438.00</td>\n",
              "      <td>1</td>\n",
              "      <td>1</td>\n",
              "      <td>1</td>\n",
              "      <td>111</td>\n",
              "    </tr>\n",
              "    <tr>\n",
              "      <th>17450.0</th>\n",
              "      <td>7</td>\n",
              "      <td>46</td>\n",
              "      <td>194550.79</td>\n",
              "      <td>69993</td>\n",
              "      <td>8949336.34</td>\n",
              "      <td>1</td>\n",
              "      <td>1</td>\n",
              "      <td>1</td>\n",
              "      <td>111</td>\n",
              "    </tr>\n",
              "    <tr>\n",
              "      <th>17511.0</th>\n",
              "      <td>2</td>\n",
              "      <td>31</td>\n",
              "      <td>91062.38</td>\n",
              "      <td>64549</td>\n",
              "      <td>2822933.78</td>\n",
              "      <td>1</td>\n",
              "      <td>1</td>\n",
              "      <td>1</td>\n",
              "      <td>111</td>\n",
              "    </tr>\n",
              "    <tr>\n",
              "      <th>16684.0</th>\n",
              "      <td>3</td>\n",
              "      <td>28</td>\n",
              "      <td>66653.56</td>\n",
              "      <td>50255</td>\n",
              "      <td>1866299.68</td>\n",
              "      <td>1</td>\n",
              "      <td>1</td>\n",
              "      <td>1</td>\n",
              "      <td>111</td>\n",
              "    </tr>\n",
              "    <tr>\n",
              "      <th>14096.0</th>\n",
              "      <td>3</td>\n",
              "      <td>17</td>\n",
              "      <td>65164.79</td>\n",
              "      <td>16352</td>\n",
              "      <td>1107801.43</td>\n",
              "      <td>1</td>\n",
              "      <td>1</td>\n",
              "      <td>1</td>\n",
              "      <td>111</td>\n",
              "    </tr>\n",
              "    <tr>\n",
              "      <th>13694.0</th>\n",
              "      <td>3</td>\n",
              "      <td>50</td>\n",
              "      <td>65039.62</td>\n",
              "      <td>63312</td>\n",
              "      <td>3251981.00</td>\n",
              "      <td>1</td>\n",
              "      <td>1</td>\n",
              "      <td>1</td>\n",
              "      <td>111</td>\n",
              "    </tr>\n",
              "    <tr>\n",
              "      <th>15311.0</th>\n",
              "      <td>0</td>\n",
              "      <td>91</td>\n",
              "      <td>60767.90</td>\n",
              "      <td>38194</td>\n",
              "      <td>5529878.90</td>\n",
              "      <td>1</td>\n",
              "      <td>1</td>\n",
              "      <td>1</td>\n",
              "      <td>111</td>\n",
              "    </tr>\n",
              "    <tr>\n",
              "      <th>13089.0</th>\n",
              "      <td>2</td>\n",
              "      <td>97</td>\n",
              "      <td>58825.83</td>\n",
              "      <td>31070</td>\n",
              "      <td>5706105.51</td>\n",
              "      <td>1</td>\n",
              "      <td>1</td>\n",
              "      <td>1</td>\n",
              "      <td>111</td>\n",
              "    </tr>\n",
              "    <tr>\n",
              "      <th>17949.0</th>\n",
              "      <td>0</td>\n",
              "      <td>45</td>\n",
              "      <td>58510.48</td>\n",
              "      <td>30546</td>\n",
              "      <td>2632971.60</td>\n",
              "      <td>1</td>\n",
              "      <td>1</td>\n",
              "      <td>1</td>\n",
              "      <td>111</td>\n",
              "    </tr>\n",
              "    <tr>\n",
              "      <th>15769.0</th>\n",
              "      <td>6</td>\n",
              "      <td>26</td>\n",
              "      <td>56252.72</td>\n",
              "      <td>29672</td>\n",
              "      <td>1462570.72</td>\n",
              "      <td>1</td>\n",
              "      <td>1</td>\n",
              "      <td>1</td>\n",
              "      <td>111</td>\n",
              "    </tr>\n",
              "  </tbody>\n",
              "</table>\n",
              "</div>"
            ],
            "text/plain": [
              "            recency  frequency  monetary_value  ...  f_quartile  m_quartile  RFMScore\n",
              "CustomerID                                      ...                                  \n",
              "18102.0           0         60       259657.30  ...           1           1       111\n",
              "17450.0           7         46       194550.79  ...           1           1       111\n",
              "17511.0           2         31        91062.38  ...           1           1       111\n",
              "16684.0           3         28        66653.56  ...           1           1       111\n",
              "14096.0           3         17        65164.79  ...           1           1       111\n",
              "13694.0           3         50        65039.62  ...           1           1       111\n",
              "15311.0           0         91        60767.90  ...           1           1       111\n",
              "13089.0           2         97        58825.83  ...           1           1       111\n",
              "17949.0           0         45        58510.48  ...           1           1       111\n",
              "15769.0           6         26        56252.72  ...           1           1       111\n",
              "\n",
              "[10 rows x 9 columns]"
            ]
          },
          "metadata": {},
          "execution_count": 60
        }
      ]
    },
    {
      "cell_type": "code",
      "metadata": {
        "id": "4r5Gb3QLJP04",
        "colab": {
          "base_uri": "https://localhost:8080/",
          "height": 289
        },
        "outputId": "4512d13b-32bd-4901-a06d-049db813e2a5"
      },
      "source": [
        "segmented_rfm[segmented_rfm['RFMScore']=='441'].sort_values('monetary_value', ascending=False).head(10)"
      ],
      "execution_count": null,
      "outputs": [
        {
          "output_type": "execute_result",
          "data": {
            "text/html": [
              "<div>\n",
              "<style scoped>\n",
              "    .dataframe tbody tr th:only-of-type {\n",
              "        vertical-align: middle;\n",
              "    }\n",
              "\n",
              "    .dataframe tbody tr th {\n",
              "        vertical-align: top;\n",
              "    }\n",
              "\n",
              "    .dataframe thead th {\n",
              "        text-align: right;\n",
              "    }\n",
              "</style>\n",
              "<table border=\"1\" class=\"dataframe\">\n",
              "  <thead>\n",
              "    <tr style=\"text-align: right;\">\n",
              "      <th></th>\n",
              "      <th>recency</th>\n",
              "      <th>frequency</th>\n",
              "      <th>monetary_value</th>\n",
              "      <th>Quantity</th>\n",
              "      <th>Quantity_ratio</th>\n",
              "      <th>r_quartile</th>\n",
              "      <th>f_quartile</th>\n",
              "      <th>m_quartile</th>\n",
              "      <th>RFMScore</th>\n",
              "    </tr>\n",
              "    <tr>\n",
              "      <th>CustomerID</th>\n",
              "      <th></th>\n",
              "      <th></th>\n",
              "      <th></th>\n",
              "      <th></th>\n",
              "      <th></th>\n",
              "      <th></th>\n",
              "      <th></th>\n",
              "      <th></th>\n",
              "      <th></th>\n",
              "    </tr>\n",
              "  </thead>\n",
              "  <tbody>\n",
              "    <tr>\n",
              "      <th>12346.0</th>\n",
              "      <td>325</td>\n",
              "      <td>1</td>\n",
              "      <td>77183.60</td>\n",
              "      <td>74215</td>\n",
              "      <td>77183.60</td>\n",
              "      <td>4</td>\n",
              "      <td>4</td>\n",
              "      <td>1</td>\n",
              "      <td>441</td>\n",
              "    </tr>\n",
              "    <tr>\n",
              "      <th>13135.0</th>\n",
              "      <td>196</td>\n",
              "      <td>1</td>\n",
              "      <td>3096.00</td>\n",
              "      <td>4300</td>\n",
              "      <td>3096.00</td>\n",
              "      <td>4</td>\n",
              "      <td>4</td>\n",
              "      <td>1</td>\n",
              "      <td>441</td>\n",
              "    </tr>\n",
              "    <tr>\n",
              "      <th>17597.0</th>\n",
              "      <td>213</td>\n",
              "      <td>1</td>\n",
              "      <td>2044.37</td>\n",
              "      <td>1176</td>\n",
              "      <td>2044.37</td>\n",
              "      <td>4</td>\n",
              "      <td>4</td>\n",
              "      <td>1</td>\n",
              "      <td>441</td>\n",
              "    </tr>\n",
              "    <tr>\n",
              "      <th>16754.0</th>\n",
              "      <td>371</td>\n",
              "      <td>1</td>\n",
              "      <td>2002.40</td>\n",
              "      <td>4280</td>\n",
              "      <td>2002.40</td>\n",
              "      <td>4</td>\n",
              "      <td>4</td>\n",
              "      <td>1</td>\n",
              "      <td>441</td>\n",
              "    </tr>\n",
              "    <tr>\n",
              "      <th>14459.0</th>\n",
              "      <td>154</td>\n",
              "      <td>1</td>\n",
              "      <td>1837.92</td>\n",
              "      <td>760</td>\n",
              "      <td>1837.92</td>\n",
              "      <td>4</td>\n",
              "      <td>4</td>\n",
              "      <td>1</td>\n",
              "      <td>441</td>\n",
              "    </tr>\n",
              "    <tr>\n",
              "      <th>16152.0</th>\n",
              "      <td>268</td>\n",
              "      <td>1</td>\n",
              "      <td>1829.04</td>\n",
              "      <td>642</td>\n",
              "      <td>1829.04</td>\n",
              "      <td>4</td>\n",
              "      <td>4</td>\n",
              "      <td>1</td>\n",
              "      <td>441</td>\n",
              "    </tr>\n",
              "  </tbody>\n",
              "</table>\n",
              "</div>"
            ],
            "text/plain": [
              "            recency  frequency  monetary_value  ...  f_quartile  m_quartile  RFMScore\n",
              "CustomerID                                      ...                                  \n",
              "12346.0         325          1        77183.60  ...           4           1       441\n",
              "13135.0         196          1         3096.00  ...           4           1       441\n",
              "17597.0         213          1         2044.37  ...           4           1       441\n",
              "16754.0         371          1         2002.40  ...           4           1       441\n",
              "14459.0         154          1         1837.92  ...           4           1       441\n",
              "16152.0         268          1         1829.04  ...           4           1       441\n",
              "\n",
              "[6 rows x 9 columns]"
            ]
          },
          "metadata": {},
          "execution_count": 64
        }
      ]
    },
    {
      "cell_type": "markdown",
      "metadata": {
        "id": "7eGuY63p_tAE"
      },
      "source": [
        "# Tree Based Segmentation"
      ]
    },
    {
      "cell_type": "code",
      "metadata": {
        "colab": {
          "base_uri": "https://localhost:8080/",
          "height": 446
        },
        "id": "bfOCi9Ei_tAF",
        "outputId": "52e36918-b1aa-4b46-cd3b-513e48cace50"
      },
      "source": [
        "rfmTable[ (rfmTable['recency'] < 50) & (rfmTable['frequency'] > 10) ]"
      ],
      "execution_count": null,
      "outputs": [
        {
          "output_type": "execute_result",
          "data": {
            "text/html": [
              "<div>\n",
              "<style scoped>\n",
              "    .dataframe tbody tr th:only-of-type {\n",
              "        vertical-align: middle;\n",
              "    }\n",
              "\n",
              "    .dataframe tbody tr th {\n",
              "        vertical-align: top;\n",
              "    }\n",
              "\n",
              "    .dataframe thead th {\n",
              "        text-align: right;\n",
              "    }\n",
              "</style>\n",
              "<table border=\"1\" class=\"dataframe\">\n",
              "  <thead>\n",
              "    <tr style=\"text-align: right;\">\n",
              "      <th></th>\n",
              "      <th>recency</th>\n",
              "      <th>frequency</th>\n",
              "      <th>monetary_value</th>\n",
              "      <th>m_ratio</th>\n",
              "    </tr>\n",
              "    <tr>\n",
              "      <th>CustomerID</th>\n",
              "      <th></th>\n",
              "      <th></th>\n",
              "      <th></th>\n",
              "      <th></th>\n",
              "    </tr>\n",
              "  </thead>\n",
              "  <tbody>\n",
              "    <tr>\n",
              "      <th>12747.0</th>\n",
              "      <td>1</td>\n",
              "      <td>103</td>\n",
              "      <td>4196.01</td>\n",
              "      <td>40.737961</td>\n",
              "    </tr>\n",
              "    <tr>\n",
              "      <th>12748.0</th>\n",
              "      <td>0</td>\n",
              "      <td>4596</td>\n",
              "      <td>33719.73</td>\n",
              "      <td>7.336756</td>\n",
              "    </tr>\n",
              "    <tr>\n",
              "      <th>12749.0</th>\n",
              "      <td>3</td>\n",
              "      <td>199</td>\n",
              "      <td>4090.88</td>\n",
              "      <td>20.557186</td>\n",
              "    </tr>\n",
              "    <tr>\n",
              "      <th>12820.0</th>\n",
              "      <td>2</td>\n",
              "      <td>59</td>\n",
              "      <td>942.34</td>\n",
              "      <td>15.971864</td>\n",
              "    </tr>\n",
              "    <tr>\n",
              "      <th>12826.0</th>\n",
              "      <td>2</td>\n",
              "      <td>91</td>\n",
              "      <td>1474.72</td>\n",
              "      <td>16.205714</td>\n",
              "    </tr>\n",
              "    <tr>\n",
              "      <th>...</th>\n",
              "      <td>...</td>\n",
              "      <td>...</td>\n",
              "      <td>...</td>\n",
              "      <td>...</td>\n",
              "    </tr>\n",
              "    <tr>\n",
              "      <th>18274.0</th>\n",
              "      <td>29</td>\n",
              "      <td>11</td>\n",
              "      <td>175.92</td>\n",
              "      <td>15.992727</td>\n",
              "    </tr>\n",
              "    <tr>\n",
              "      <th>18276.0</th>\n",
              "      <td>43</td>\n",
              "      <td>14</td>\n",
              "      <td>335.86</td>\n",
              "      <td>23.990000</td>\n",
              "    </tr>\n",
              "    <tr>\n",
              "      <th>18282.0</th>\n",
              "      <td>7</td>\n",
              "      <td>12</td>\n",
              "      <td>178.05</td>\n",
              "      <td>14.837500</td>\n",
              "    </tr>\n",
              "    <tr>\n",
              "      <th>18283.0</th>\n",
              "      <td>3</td>\n",
              "      <td>756</td>\n",
              "      <td>2094.88</td>\n",
              "      <td>2.771005</td>\n",
              "    </tr>\n",
              "    <tr>\n",
              "      <th>18287.0</th>\n",
              "      <td>42</td>\n",
              "      <td>70</td>\n",
              "      <td>1837.28</td>\n",
              "      <td>26.246857</td>\n",
              "    </tr>\n",
              "  </tbody>\n",
              "</table>\n",
              "<p>1809 rows × 4 columns</p>\n",
              "</div>"
            ],
            "text/plain": [
              "            recency  frequency  monetary_value    m_ratio\n",
              "CustomerID                                               \n",
              "12747.0           1        103         4196.01  40.737961\n",
              "12748.0           0       4596        33719.73   7.336756\n",
              "12749.0           3        199         4090.88  20.557186\n",
              "12820.0           2         59          942.34  15.971864\n",
              "12826.0           2         91         1474.72  16.205714\n",
              "...             ...        ...             ...        ...\n",
              "18274.0          29         11          175.92  15.992727\n",
              "18276.0          43         14          335.86  23.990000\n",
              "18282.0           7         12          178.05  14.837500\n",
              "18283.0           3        756         2094.88   2.771005\n",
              "18287.0          42         70         1837.28  26.246857\n",
              "\n",
              "[1809 rows x 4 columns]"
            ]
          },
          "metadata": {
            "tags": []
          },
          "execution_count": 81
        }
      ]
    },
    {
      "cell_type": "code",
      "metadata": {
        "colab": {
          "base_uri": "https://localhost:8080/"
        },
        "id": "6W9xm67A_tAF",
        "outputId": "09571328-f8a8-48ab-ae73-937e56390934"
      },
      "source": [
        "max_quant = df1['Quantity'].max()\n",
        "mask = (df1['Country'] == 'United Kingdom') & (df1['Quantity'] > 100) & (df1['TotalPrice'] < 1000 )\n",
        "df1[mask].shape"
      ],
      "execution_count": null,
      "outputs": [
        {
          "output_type": "execute_result",
          "data": {
            "text/plain": [
              "(3030, 9)"
            ]
          },
          "metadata": {},
          "execution_count": 65
        }
      ]
    },
    {
      "cell_type": "markdown",
      "metadata": {
        "id": "G2dAYpIi1reT"
      },
      "source": [
        "# Discussion:\n",
        "\n",
        "- Can only Monetory value make customer IMP ?\n",
        "\n",
        "- Can Frequency make a customer IMP?\n",
        "\n",
        "- Any other parameters to find IMP customers ?\n",
        "\n"
      ]
    },
    {
      "cell_type": "markdown",
      "metadata": {
        "id": "OeiTjuBg19hr"
      },
      "source": [
        "# NEXT LEVEL\n",
        "\n",
        "- how to use prediction model to predict monetory value ?\n",
        "\n",
        "- What can be hypothesis testing applied here?\n"
      ]
    }
  ]
}